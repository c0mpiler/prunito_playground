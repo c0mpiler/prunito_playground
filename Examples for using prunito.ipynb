{
 "cells": [
  {
   "cell_type": "markdown",
   "metadata": {},
   "source": [
    "## Examples for using prunito"
   ]
  },
  {
   "cell_type": "code",
   "execution_count": 2,
   "metadata": {},
   "outputs": [
    {
     "data": {
      "text/plain": [
       "'0.93.0'"
      ]
     },
     "execution_count": 2,
     "metadata": {},
     "output_type": "execute_result"
    }
   ],
   "source": [
    "import prunito\n",
    "prunito.__version__"
   ]
  },
  {
   "cell_type": "markdown",
   "metadata": {},
   "source": [
    "### Searching and parsing UniProtKB data\n",
    "\n",
    "Prunito allows searching uniprot.org and parsing entries in flat file (text) format. First, import the relevant package:"
   ]
  },
  {
   "cell_type": "code",
   "execution_count": 3,
   "metadata": {},
   "outputs": [],
   "source": [
    "from prunito import uniprot as up"
   ]
  },
  {
   "cell_type": "markdown",
   "metadata": {},
   "source": [
    "A simple search for all reviewed UniProtKB entries with 'tax' in their names."
   ]
  },
  {
   "cell_type": "code",
   "execution_count": 4,
   "metadata": {},
   "outputs": [],
   "source": [
    "result = up.search_reviewed('name:tax')"
   ]
  },
  {
   "cell_type": "markdown",
   "metadata": {},
   "source": [
    "Check how many hits this search retrieved."
   ]
  },
  {
   "cell_type": "code",
   "execution_count": 5,
   "metadata": {},
   "outputs": [
    {
     "data": {
      "text/plain": [
       "41"
      ]
     },
     "execution_count": 5,
     "metadata": {},
     "output_type": "execute_result"
    }
   ],
   "source": [
    "result.size()\n",
    "# or\n",
    "#len(result)"
   ]
  },
  {
   "cell_type": "markdown",
   "metadata": {},
   "source": [
    "What would happen if a given query had many hits? By default, the maximum number of hits retrieved is 500. This can be changed using the parameter 'limit'.\n",
    "\n",
    "Let's re-run the previous search but this time not just for reviewed (i.e. Swiss-Prot) entries but all of UniProtKB:"
   ]
  },
  {
   "cell_type": "code",
   "execution_count": 6,
   "metadata": {},
   "outputs": [
    {
     "ename": "ExcessiveDataError",
     "evalue": "Number of hits exceeds limit. Limit: 500. Actual hits: 1890. Please adjust limit or query.",
     "output_type": "error",
     "traceback": [
      "\u001b[1;31m---------------------------------------------------------------------------\u001b[0m",
      "\u001b[1;31mExcessiveDataError\u001b[0m                        Traceback (most recent call last)",
      "\u001b[1;32m<ipython-input-6-3f7554404674>\u001b[0m in \u001b[0;36m<module>\u001b[1;34m()\u001b[0m\n\u001b[1;32m----> 1\u001b[1;33m \u001b[0mhuge\u001b[0m \u001b[1;33m=\u001b[0m \u001b[0mup\u001b[0m\u001b[1;33m.\u001b[0m\u001b[0msearch\u001b[0m\u001b[1;33m(\u001b[0m\u001b[1;34m'name:tax'\u001b[0m\u001b[1;33m)\u001b[0m\u001b[1;33m\u001b[0m\u001b[0m\n\u001b[0m",
      "\u001b[1;32mC:\\KleApps\\anaconda\\envs\\curation\\lib\\site-packages\\prunito\\uniprot\\rest\\uniprotapi.py\u001b[0m in \u001b[0;36msearch\u001b[1;34m(query, frmt, limit, **kwargs)\u001b[0m\n\u001b[0;32m    185\u001b[0m         \u001b[1;32mif\u001b[0m \u001b[0mresult\u001b[0m\u001b[1;33m.\u001b[0m\u001b[0mok\u001b[0m\u001b[1;33m:\u001b[0m\u001b[1;33m\u001b[0m\u001b[0m\n\u001b[0;32m    186\u001b[0m             \u001b[1;32mif\u001b[0m \u001b[0mresult\u001b[0m\u001b[1;33m.\u001b[0m\u001b[0msize\u001b[0m\u001b[1;33m(\u001b[0m\u001b[1;33m)\u001b[0m \u001b[1;33m>\u001b[0m \u001b[0mlimit\u001b[0m\u001b[1;33m:\u001b[0m\u001b[1;33m\u001b[0m\u001b[0m\n\u001b[1;32m--> 187\u001b[1;33m                 \u001b[1;32mraise\u001b[0m \u001b[0mExcessiveDataError\u001b[0m\u001b[1;33m(\u001b[0m\u001b[0mlimit\u001b[0m\u001b[1;33m,\u001b[0m \u001b[0mresult\u001b[0m\u001b[1;33m.\u001b[0m\u001b[0msize\u001b[0m\u001b[1;33m(\u001b[0m\u001b[1;33m)\u001b[0m\u001b[1;33m)\u001b[0m\u001b[1;33m\u001b[0m\u001b[0m\n\u001b[0m\u001b[0;32m    188\u001b[0m             \u001b[1;32melif\u001b[0m \u001b[0mresult\u001b[0m\u001b[1;33m.\u001b[0m\u001b[0msize\u001b[0m\u001b[1;33m(\u001b[0m\u001b[1;33m)\u001b[0m \u001b[1;33m==\u001b[0m \u001b[1;36m0\u001b[0m\u001b[1;33m:\u001b[0m\u001b[1;33m\u001b[0m\u001b[0m\n\u001b[0;32m    189\u001b[0m                 \u001b[1;32mraise\u001b[0m \u001b[0mNoDataError\u001b[0m\u001b[1;33m(\u001b[0m\u001b[0mresult\u001b[0m\u001b[1;33m.\u001b[0m\u001b[0mstatus_code\u001b[0m\u001b[1;33m)\u001b[0m\u001b[1;33m\u001b[0m\u001b[0m\n",
      "\u001b[1;31mExcessiveDataError\u001b[0m: Number of hits exceeds limit. Limit: 500. Actual hits: 1890. Please adjust limit or query."
     ]
    }
   ],
   "source": [
    "huge = up.search('name:tax')"
   ]
  },
  {
   "cell_type": "markdown",
   "metadata": {},
   "source": [
    "The search function throws an ExcessiveDataError. Now either the limit of retrieved entries has to be increased or the error could be caught and handled gracefully."
   ]
  },
  {
   "cell_type": "code",
   "execution_count": 7,
   "metadata": {},
   "outputs": [
    {
     "name": "stdout",
     "output_type": "stream",
     "text": [
      "Too many hits! Try again.\n"
     ]
    }
   ],
   "source": [
    "# Approach 1: increase the limit of allowed hits\n",
    "# new_limit = up.search('name:tax', limit=2000)\n",
    "# new_limit.size()\n",
    "#\n",
    "# Approach 2: Handle the error and move on\n",
    "from prunito.utils import ExcessiveDataError\n",
    "try:\n",
    "    new_result = up.search('name:tax')\n",
    "except ExcessiveDataError:\n",
    "    print('Too many hits! Try again.')"
   ]
  },
  {
   "cell_type": "markdown",
   "metadata": {},
   "source": [
    "Back to the initial result, the one with size of 41. What does 41 mean? UniProtKB entries. And these entries we would like to parse. As prunito provides both functionality for both searching and parsing UniProt, a search result is directly iterable for convenience:"
   ]
  },
  {
   "cell_type": "code",
   "execution_count": 8,
   "metadata": {},
   "outputs": [],
   "source": [
    "entries = list(result)\n",
    "# or\n",
    "# for entry in result: ..."
   ]
  },
  {
   "cell_type": "markdown",
   "metadata": {},
   "source": [
    "Iterate over the 41 entries, printing out primary accessions and recommended full names. Both fields are provided for convenience (unlike Biopython's Record object which does not have this)."
   ]
  },
  {
   "cell_type": "code",
   "execution_count": 9,
   "metadata": {
    "scrolled": true
   },
   "outputs": [
    {
     "name": "stdout",
     "output_type": "stream",
     "text": [
      "Q06507 Cyclic AMP-dependent transcription factor ATF-4\n",
      "P18848 Cyclic AMP-dependent transcription factor ATF-4\n",
      "Q9Y6D9 Mitotic spindle assembly checkpoint protein MAD1\n",
      "P47911 60S ribosomal protein L6\n",
      "P10070 Zinc finger protein GLI2\n",
      "Q0VGT2 Zinc finger protein GLI2\n",
      "O14908 PDZ domain-containing protein GIPC1\n",
      "Q02878 60S ribosomal protein L6\n",
      "O14910 Protein lin-7 homolog A\n",
      "Q10586 D site-binding protein\n",
      "P22063 Contactin-2\n",
      "Q02246 Contactin-2\n",
      "Q61330 Contactin-2\n",
      "P43489 Tumor necrosis factor receptor superfamily member 4\n",
      "Q08AM6 Protein VAC14 homolog\n",
      "P47030 Protein TAX4\n",
      "Q5R4U3 Tax1-binding protein 1 homolog\n",
      "Q4U0X7 Protein Tax-3\n",
      "P0C222 Protein Tax-1\n",
      "P23510 Tumor necrosis factor ligand superfamily member 4\n",
      "A6ZPP1 Protein TAX4\n",
      "Q2KJE0 Tax1-binding protein 1 homolog\n",
      "Q86VP1 Tax1-binding protein 1\n",
      "P14079 Protein Tax-1\n",
      "O35426 X-box-binding protein 1\n",
      "P17861 X-box-binding protein 1\n",
      "Q9DBG9 Tax1-binding protein 3\n",
      "Q6P132 Tax1-binding protein 1 homolog B\n",
      "Q4QQV1 Tax1-binding protein 3\n",
      "Q1LWB0 Tax1-binding protein 1 homolog A\n",
      "O14907 Tax1-binding protein 3\n",
      "Q6P3P1 Tax1-binding protein 1 homolog\n",
      "Q0R5R1 Protein Tax-3\n",
      "Q66HA4 Tax1-binding protein 1 homolog\n",
      "P03409 Protein Tax-1\n",
      "Q9UQ35 Serine/arginine repetitive matrix protein 2\n",
      "Q13884 Beta-1-syntrophin\n",
      "Q3UKC1 Tax1-binding protein 1 homolog\n",
      "P0C213 Protein Tax-1\n",
      "P03410 Protein Tax-2\n",
      "Q9NPB6 Partitioning defective 6 homolog alpha\n"
     ]
    }
   ],
   "source": [
    "for entry in entries:\n",
    "    print(entry.primary_accession, entry.recommended_full_name)"
   ]
  },
  {
   "cell_type": "markdown",
   "metadata": {},
   "source": [
    "Which methods and fields are available on a Record object?"
   ]
  },
  {
   "cell_type": "code",
   "execution_count": 10,
   "metadata": {
    "scrolled": true
   },
   "outputs": [
    {
     "name": "stdout",
     "output_type": "stream",
     "text": [
      "accessions\n",
      "all_pubmed_ids\n",
      "annotation_update\n",
      "as_fasta\n",
      "comments\n",
      "created\n",
      "cross_references\n",
      "data_class\n",
      "description\n",
      "ec_numbers\n",
      "entry_name\n",
      "features\n",
      "gene_name\n",
      "host_organism\n",
      "host_taxonomy_id\n",
      "isoforms\n",
      "keywords\n",
      "molecule_type\n",
      "organelle\n",
      "organism\n",
      "organism_classification\n",
      "primary_accession\n",
      "primary_gene_name\n",
      "recommended_full_name\n",
      "references\n",
      "seqinfo\n",
      "sequence\n",
      "sequence_length\n",
      "sequence_update\n",
      "taxonomy_id\n"
     ]
    }
   ],
   "source": [
    "for item in dir(entries[0]):\n",
    "    if not item.startswith('_'):\n",
    "        print(item)"
   ]
  },
  {
   "cell_type": "markdown",
   "metadata": {},
   "source": [
    "Get isoforms for those entries that have them. We use the presence of a keyword, 'Alternative splicing', as a filter here."
   ]
  },
  {
   "cell_type": "code",
   "execution_count": 19,
   "metadata": {
    "scrolled": true
   },
   "outputs": [
    {
     "name": "stdout",
     "output_type": "stream",
     "text": [
      ">sp|Q9Y6D9-2|MD1L1_HUMAN Isoform 2 of Mitotic spindle assembly checkpoint protein MAD1 OS=Homo sapiens (Human). OX=['9606']\n",
      "MLPARGCVRKRTVWPRLARVLIVTLLTLELSYAPLPCQLSGVPYNTGDPVGRWARPCIWP\n",
      "CPWHTTINALKGRISELQWSVMDQEMRVKRLESEKQELQEQLDLQHKKCQEANQKIQELQ\n",
      "ASQEARADHEQQIKDLEQKLSLQEQDAAIVKNMKSELVRLPRLERELKQLREESAHLREM\n",
      "RETNGLLQEELEGLQRKLGRQEKMQETLVGLELENERLLAKLQSWERLDQTMGLSIRTPE\n",
      "DLSRFVVELQQRELALKDKNSAVTSSARGLEKARQQLQEELRQVSGQLLEERKKRETHEA\n",
      "LARRLQKRVLLLTKERDGMRAILGSYDSELTPAEYSPQLTRRMREAEDMVQKVHSHSAEM\n",
      "EAQLSQALEELGGQKQRADMLEMELKMLKSQSSSAEQSFLFSREEADTLRLKVEELEGER\n",
      "SRLEEEKRMLEAQLERRALQGDYDQSRTKVLHMSLNPTSVARQRLREDHSQLQAECERLR\n",
      "GLLRAMERGGTVPADLEAAAASLPSSKEVAELKKQVESAELKNQRLKEVFQTKIQEFRKA\n",
      "CYTLTGYQIDITTENQYRLTSLYAEHPGDCLIFKATSPSGSKMQLLETEFSHTVGELIEV\n",
      "HLRRQDSIPAFLSSLTLELFSRQTVA\n",
      ">sp|P10070-1|GLI2_HUMAN Isoform 1 of Zinc finger protein GLI2 OS=Homo sapiens (Human). OX=['9606']\n",
      "MALTSINATPTQLSSSSNCLSDTNQNKQSSESAVSSTVNPVAIHKRSKVKTEPEGLRPAS\n",
      "PLALTQGQVSGHGSCGCALPLSQEQLADLKEDLDRDDCKQEAEVVIYETNCHWEDCTKEY\n",
      "DTQEQLVHHINNEHIHGEKKEFVCRWQACTREQKPFKAQYMLVVHMRRHTGEKPHKCTFE\n",
      "GCSKAYSRLENLKTHLRSHTGEKPYVCEHEGCNKAFSNASDRAKHQNRTHSNEKPYICKI\n",
      "PGCTKRYTDPSSLRKHVKTVHGPDAHVTKKQRNDVHLRTPLLKENGDSEAGTEPGGPEST\n",
      "EASSTSQAVEDCLHVRAIKTESSGLCQSSPGAQSSCSSEPSPLGSAPNNDSGVEMPGTGP\n",
      "GSLGDLTALDDTPPGADTSALAAPSAGGLQLRKHMTTMHRFEQLKKEKLKSLKDSCSWAG\n",
      "PTPHTRNTKLPPLPGSGSILENFSGSGGGGPAGLLPNPRLSELSASEVTMLSQLQERRDS\n",
      "STSTVSSAYTVSRRSSGISPYFSSRRSSEASPLGAGRPHNASSADSYDPISTDASRRSSE\n",
      "ASQCSGGSGLLNLTPAQQYSLRAKYAAATGGPPPTPLPGLERMSLRTRLALLDAPERTLP\n",
      "AGCPRPLGPRRGSDGPTYGHGHAGAAPAFPHEAPGGGARRASDPVRRPDALSLPRVQRFH\n",
      "STHNVNPGPLPPCADRRGLRLQSHPSTDGGLARGAYSPRPPSISENVAMEAVAAGVDGAG\n",
      "PEADLGLPEDDLVLPDDVVQYIKAHASGALDEGTGQVYPTESTGFSDNPRLPSPGLHGQR\n",
      "RMVAADSNVGPSAPMLGGCQLGFGAPSSLNKNNMPVQWNEVSSGTVDALASQVKPPPFPQ\n",
      "GNLAVVQQKPAFGQYPGYSPQGLQASPGGLDSTQPHLQPRSGAPSQGIPRVNYMQQLRQP\n",
      "VAGSQCPGMTTTMSPHACYGQVHPQLSPSTISGALNQFPQSCSNMPAKPGHLGHPQQTEV\n",
      "APDPTTMGNRHRELGVPDSALAGVPPPHPVQSYPQQSHHLAASMSQEGYHQVPSLLPARQ\n",
      "PGFMEPQTGPMGVATAGFGLVQPRPPLEPSPTGRHRGVRAVQQQLAYARATGHAMAAMPS\n",
      "SQETAEAVPKGAMGNMGSVPPQPPPQDAGGAPDHSMLYYYGQIHMYEQDGGLENLGSCQV\n",
      "MRSQPPQPQACQDSIQPQPLPSPGVNQVSSTVDSQLLEAPQIDFDAIMDDGDHSSLFSGA\n",
      "LSPSLLHSLSQNSSRLTTPRNSLTLPSIPAGISNMAVGDMSSMLTSLAEESKFLNMMT\n",
      ">sp|P10070-2|GLI2_HUMAN Isoform 2 of Zinc finger protein GLI2 OS=Homo sapiens (Human). OX=['9606']\n",
      "MALTSINATPTQLSSSSNCLSDTNQNKQSSESAVSSTVNPVAIHKRSKVKTEPEGLRPAS\n",
      "PLALTQEQLADLKEDLDRDDCKQEAEVVIYETNCHWEDCTKEYDTQEQLVHHINNEHIHG\n",
      "EKKEFVCRWQACTREQKPFKAQYMLVVHMRRHTGEKPHKCTFEGCSKAYSRLENLKTHLR\n",
      "SHTGEKPYVCEHEGCNKAFSNASDRAKHQNRTHSNEKPYICKIPGCTKRYTDPSSLRKHV\n",
      "KTVHGPDAHVTKKQRNDVHLRTPLLKENGDSEAGTEPGGPESTEASSTSQAVEDCLHVRA\n",
      "IKTESSGLCQSSPGAQSSCSSEPSPLGSAPNNDSGVEMPGTGPGSLGDLTALDDTPPGAD\n",
      "TSALAAPSAGGLQLRKHMTTMHRFEQLKKEKLKSLKDSCSWAGPTPHTRNTKLPPLPGSG\n",
      "SILENFSGSGGGGPAGLLPNPRLSELSASEVTMLSQLQERRDSSTSTVSSAYTVSRRSSG\n",
      "ISPYFSSRRSSEASPLGAGRPHNASSADSYDPISTDASRRSSEASQCSGGSGLLNLTPAQ\n",
      "QYSLRAKYAAATGGPPPTPLPGLERMSLRTRLALLDAPERTLPAGCPRPLGPRRGSDGPT\n",
      "YGHGHAGAAPAFPHEAPGGGARRASDPVRRPDALSLPRVQRFHSTHNVNPGPLPPCADRR\n",
      "GLRLQSHPSTDGGLARGAYSPRPPSISENVAMEAVAAGVDGAGPEADLGLPEDDLVLPDD\n",
      "VVQYIKAHASGALDEGTGQVYPTESTGFSDNPRLPSPGLHGQRRMVAADSNVGPSAPMLG\n",
      "GCQLGFGAPSSLNKNNMPVQWNEVSSGTVDALASQVKPPPFPQGNLAVVQQKPAFGQYPG\n",
      "YSPQGLQASPGGLDSTQPHLQPRSGAPSQGIPRVNYMQQLRQPVAGSQCPGMTTTMSPHA\n",
      "CYGQVHPQLSPSTISGALNQFPQSCSNMPAKPGHLGHPQQTEVAPDPTTMGNRHRELGVP\n",
      "DSALAGVPPPHPVQSYPQQSHHLAASMSQEGYHQVPSLLPARQPGFMEPQTGPMGVATAG\n",
      "FGLVQPRPPLEPSPTGRHRGVRAVQQQLAYARATGHAMAAMPSSQETAEAVPKGAMGNMG\n",
      "SVPPQPPPQDAGGAPDHSMLYYYGQIHMYEQDGGLENLGSCQVMRSQPPQPQACQDSIQP\n",
      "QPLPSPGVNQVSSTVDSQLLEAPQIDFDAIMDDGDHSSLFSGALSPSLLHSLSQNSSRLT\n",
      "TPRNSLTLPSIPAGISNMAVGDMSSMLTSLAEESKFLNMMT\n",
      ">sp|P10070-3|GLI2_HUMAN Isoform 3 of Zinc finger protein GLI2 OS=Homo sapiens (Human). OX=['9606']\n",
      "MALTSINATPTQLSSSSNCLSDTNQNKQSSESAVSSTVNPVAIHKRSKVKTEPEGLRPAS\n",
      "PLALTQGQVSGHGSCGCALPLSQEQLADLKEDLDRDDCKQEAEVVIYETNCHWEDCTKEY\n",
      "DTQEQLVHHINNEHIHGEKKEFVCRWQACTREQKPFKAQYMLVVHMRRHTGEKPHKCTFE\n",
      "GCSKAYSRLENLKTHLRSHTGEKPYVCEHEGCNKAFSNASDRAKHQNRTHSNEKPYICKI\n",
      "PGCTKRYTDPSSLRKHVKTVHGPDAHVTKKQRNDVHLRTPLLKENGDSEAGTEPGGPEST\n",
      "EASSTSQAVEDCLHVRAIKTESSGLCQSSPGAQSSCSSEPSPLGSAPNNDSGVEMPGTGP\n",
      "GSLGDLTALDDTPPGADTSALAAPSAGGLQLRKHMTTMHRFEQLKKEKLKSLKDSCSWAG\n",
      "PTPHTRNTKLPPLPGSGSILENFSGSGGGGPAGLLPNPRLSELSASEVTMLSQLQERRDS\n",
      "STSTVSSAYTVSRRSSGISPYFSSRRSSEASPLGAGRPHNASSADSYDPISTDASRRSSE\n",
      "ASQCSGGSGLLNLTPAQQYSLRAKYAAATGGPPPTPLPGLERMSLRTRLALLDAPERTLP\n",
      "AGCPRPLGPRRGSDGPTYGHGHAGAAPAFPHEAPGGGARRASDPVRRPDALSLPRVQRFH\n",
      "STHNVNPGPLPPCADRRGLRLQSHPSTDGGLARGAYSPRPPSISENVAMEAVAAGVDGAG\n",
      "PEADLGLPEDDLVLPDDVVQYIKAHASGALDEGTGQVYPTESTGFSDNPRLPSPGLHGQR\n",
      "RMVAADSNVGPSAPMLGGCQLGFGAPSSLNKNNMPVQWNEASATWLSGT\n",
      ">sp|P10070-4|GLI2_HUMAN Isoform 4 of Zinc finger protein GLI2 OS=Homo sapiens (Human). OX=['9606']\n",
      "MALTSINATPTQLSSSSNCLSDTNQNKQSSESAVSSTVNPVAIHKRSKVKTEPEGLRPAS\n",
      "PLALTQEQLADLKEDLDRDDCKQEAEVVIYETNCHWEDCTKEYDTQEQLVHHINNEHIHG\n",
      "EKKEFVCRWQACTREQKPFKAQYMLVVHMRRHTGEKPHKCTFEGCSKAYSRLENLKTHLR\n",
      "SHTGEKPYVCEHEGCNKAFSNASDRAKHQNRTHSNEKPYICKIPGCTKRYTDPSSLRKHV\n",
      "KTVHGPDAHVTKKQRNDVHLRTPLLKENGDSEAGTEPGGPESTEASSTSQAVEDCLHVRA\n",
      "IKTESSGLCQSSPGAQSSCSSEPSPLGSAPNNDSGVEMPGTGPGSLGDLTALDDTPPGAD\n",
      "TSALAAPSAGGLQLRKHMTTMHRFEQLKKEKLKSLKDSCSWAGPTPHTRNTKLPPLPGSG\n",
      "SILENFSGSGGGGPAGLLPNPRLSELSASEVTMLSQLQERRDSSTSTVSSAYTVSRRSSG\n",
      "ISPYFSSRRSSEASPLGAGRPHNASSADSYDPISTDASRRSSEASQCSGGSGLLNLTPAQ\n",
      "QYSLRAKYAAATGGPPPTPLPGLERMSLRTRLALLDAPERTLPAGCPRPLGPRRGSDGPT\n",
      "YGHGHAGAAPAFPHEAPGGGARRASDPVRRPDALSLPRVQRFHSTHNVNPGPLPPCADRR\n",
      "GLRLQSHPSTDGGLARGAYSPRPPSISENVAMEAVAAGVDGAGPEADLGLPEDDLVLPDD\n",
      "VVQYIKAHASGALDEGTGQVYPTESTGFSDNPRLPSPGLHGQRRMVAADSNVGPSAPMLG\n",
      "GCQLGFGAPSSLNKNNMPVQWNEASATWLSGT\n",
      ">sp|O14908-2|GIPC1_HUMAN Isoform 2 of PDZ domain-containing protein GIPC1 OS=Homo sapiens (Human). OX=['9606']\n",
      "MFCTLNTHKVDMDKLLGGQIGLEDFIFAHVKGQRKEVEVFKSEDALGLTITDNGAGYAFI\n",
      "KRIKEGSVIDHIHLISVGDMIEAINGQSLLGCRHYEVARLLKELPRGRTFTLKLTEPRKA\n",
      "FDMISQRSAGGRPGSGPQLGTGRGTLRLRSRGPATVEDLPSAFEEKAIEKVDDLLESYMG\n",
      "IRDTELAATMVELGKDKRNPDELAEALDERLGDFAFPDEFVFDVWGAIGDAKVGRY\n",
      ">sp|Q08AM6-2|VAC14_HUMAN Isoform 2 of Protein VAC14 homolog OS=Homo sapiens (Human). OX=['9606']\n",
      "MADILLREEDLKFASTMVHALNTILLTSTELFQLRNQLKDLKTLESQNLFCCLYRSWCHN\n",
      "PVTTVSLCFLTQNYRHAYDLIQKFGDLEVTVDFLAEVDKLVQLIECPIFTYLRLQLLDVK\n",
      "NNPYLIKALYGLLMLLPQSSAFQLLSHRLQCVPNPELLQTEDSLKAAPKSQKADSPSIDY\n",
      "AELLQHFEKVQNKHLEVRHQRSGRGDHLDRRVVL\n",
      ">sp|Q5R4U3-2|TAXB1_PONAB Isoform 2 of Tax1-binding protein 1 homolog OS=Pongo abelii (Sumatran orangutan) (Pongo pygmaeus abelii). OX=['9601']\n",
      "MTSFQEVPLQTSNFAHVIFQNVAKSYLPNAHLECHYTLTPYIHPHPKDWVGIFKVGWSTA\n",
      "RDYYTFLWSPMPEHYVEGSTVNCVLAFQGYYLPNDDGEFYQFCYVTHKGEIRGASTPFQF\n",
      "RASSPVEELLTMEDEGNSDMLVVTTKAGLLELKIEKTMKEKEELLKLIAVLEKETAQLRE\n",
      "QVGRMERELNHEKERCDQLQAEQKGLTEVTQSLKMENEEFKKRFSDATSKAHQLEEDIVS\n",
      "VTHKAIEKETELDSLKDKLKKAQHEREQLECQLKTEKDEKELYKVHLKNTEIENTKLMSE\n",
      "VQTLKNLDGNKESVITHFKEEIGRLQLCLAEKENLQRTFLLTTSSKEDTFFLKEQLRKAE\n",
      "EQVQATRQEVVFLAKELSDAVNVRDRTMADLHTARLENEKVKKQLADAVAELKLNAMKKD\n",
      "QDKTDTLEHELRREVEDLKLRLQMAADHYKEKFKECQRLQKQINKLSDQSANNNNVFTKK\n",
      "MGNQQKVNDASVNTDPATSASTVDVKPSPSAAEADFDIVTKGQVCEMTKEIADKTEKYNK\n",
      "CKQLLQDEKAKCNKYADELAKMELKWKEQVKIAENVKLELAEVQDNYKELKRSLENQAER\n",
      "KMEGQNSQSPQCLKTCSEQNGYVLTLSNAQPVLQYGNPYASQETRDGADGAFYPDEIQRP\n",
      "PVRVPSWGLEDNVVCSQPARNLSRPDGLEDSEDSKEDENAPTAPDPPSQHLRGHGTGFCF\n",
      "DSSFDVHKKCPLCELMFPPNYDQSKFEEHVESHWKVCPMCSEQFPPDYDQQVFERHVQTH\n",
      "FDQNVLNFD\n",
      ">sp|P23510-2|TNFL4_HUMAN Isoform 2 of Tumor necrosis factor ligand superfamily member 4 OS=Homo sapiens (Human). OX=['9606']\n",
      "MVSHRYPRIQSIKVQFTEYKKEKGFILTSQKEDEIMKVQNNSVIINCDGFYLISLKGYFS\n",
      "QEVNISLHYQKDEEPLFQLKKVRSVNSLMVASLTYKDKVYLNVTTDNTSLDDFHVNGGEL\n",
      "ILIHQNPGEFCVL\n",
      ">sp|Q86VP1-3|TAXB1_HUMAN Isoform 3 of Tax1-binding protein 1 OS=Homo sapiens (Human). OX=['9606']\n",
      "MERELNHEKERCDQLQAEQKGLTEVTQSLKMENEEFKKRFSDATSKAHQLEEDIVSVTHK\n",
      "AIEKETELDSLKDKLKKAQHEREQLECQLKTEKDEKELYKVHLKNTEIENTKLMSEVQTL\n",
      "KNLDGNKESVITHFKEEIGRLQLCLAEKENLQRTFLLTTSSKEDTCFLKEQLRKAEEQVQ\n",
      "ATRQEVVFLAKELSDAVNVRDRTMADLHTARLENEKVKKQLADAVAELKLNAMKKDQDKT\n",
      "DTLEHELRREVEDLKLRLQMAADHYKEKFKECQRLQKQINKLSDQSANNNNVFTKKTGNQ\n",
      "QKVNDASVNTDPATSASTVDVKPSPSAAEADFDIVTKGQVCEMTKEIADKTEKYNKCKQL\n",
      "LQDEKAKCNKYADELAKMELKWKEQVKIAENVKLELAEVQDNYKELKRSLENPAERKMED\n",
      "GADGAFYPDEIQRPPVRVPSWGLEDNVVCSQPARNFSRPDGLEDSEDSKEDENVPTAPDP\n",
      "PSQHLRGHGTGFCFDSSFDVHKKCPLCELMFPPNYDQSKFEEHVESHWKVCPMCSEQFPP\n",
      "DYDQQVFERHVQTHFDQNVLNFD\n",
      ">sp|Q86VP1-4|TAXB1_HUMAN Isoform 4 of Tax1-binding protein 1 OS=Homo sapiens (Human). OX=['9606']\n",
      "MKEKEELLKLIAVLEKETAQLREQVGRMERELNHEKERCDQLQAEQKGLTEVTQSLKMEN\n",
      "EEFKKRFSDATSKAHQLEEDIVSVTHKAIEKETELDSLKDKLKKAQHEREQLECQLKTEK\n",
      "DEKELYKVHLKNTEIENTKLMSEVQTLKNLDGNKESVITHFKEEIGRLQLCLAEKENLQR\n",
      "TFLLTTSSKEDTCFLKEQLRKAEEQVQATRQEVVFLAKELSDAVNVRDRTMADLHTARLE\n",
      "NEKVKKQLADAVAELKLNAMKKDQDKTDTLEHELRREVEDLKLRLQMAADHYKEKFKECQ\n",
      "RLQKQINKLSDQSANNNNVFTKKTGNQQKVNDASVNTDPATSASTVDVKPSPSAAEADFD\n",
      "IVTKGQVCEMTKEIADKTEKYNKCKQLLQDEKAKCNKYADELAKMELKWKEQVKIAENVK\n",
      "LELAEVQDNYKELKRSLENPAERKMEDGADGAFYPDEIQRPPVRVPSWGLEDNVVCSQPA\n",
      "RNFSRPDGLEDSEDSKEDENVPTAPDPPSQHLRGHGTGFCFDSSFDVHKKCPLCELMFPP\n",
      "NYDQSKFEEHVESHWKVCPMCSEQFPPDYDQQVFERHVQTHFDQNVLNFD\n",
      ">sp|Q86VP1-2|TAXB1_HUMAN Isoform 2 of Tax1-binding protein 1 OS=Homo sapiens (Human). OX=['9606']\n",
      "MTSFQEVPLQTSNFAHVIFQNVAKSYLPNAHLECHYTLTPYIHPHPKDWVGIFKVGWSTA\n",
      "RDYYTFLWSPMPEHYVEGSTVNCVLAFQGYYLPNDDGEFYQFCYVTHKGEIRGASTPFQF\n",
      "RASSPVEELLTMEDEGNSDMLVVTTKAGLLELKIEKTMKEKEELLKLIAVLEKETAQLRE\n",
      "QVGRMERELNHEKERCDQLQAEQKGLTEVTQSLKMENEEFKKRFSDATSKAHQLEEDIVS\n",
      "VTHKAIEKETELDSLKDKLKKAQHEREQLECQLKTEKDEKELYKVHLKNTEIENTKLMSE\n",
      "VQTLKNLDGNKESVITHFKEEIGRLQLCLAEKENLQRTFLLTTSSKEDTCFLKEQLRKAE\n",
      "EQVQATRQEVVFLAKELSDAVNVRDRTMADLHTARLENEKVKKQLADAVAELKLNAMKKD\n",
      "QDKTDTLEHELRREVEDLKLRLQMAADHYKEKFKECQRLQKQINKLSDQSANNNNVFTKK\n",
      "TGNQQKVNDASVNTDPATSASTVDVKPSPSAAEADFDIVTKGQVCEMTKEIADKTEKYNK\n",
      "CKQLLQDEKAKCNKYADELAKMELKWKEQVKIAENVKLELAEVQDNYKELKRSLENPAER\n",
      "KMEDGADGAFYPDEIQRPPVRVPSWGLEDNVVCSQPARNFSRPDGLEDSEDSKEDENVPT\n",
      "APDPPSQHLRGHGTGFCFDSSFDVHKKCPLCELMFPPNYDQSKFEEHVESHWKVCPMCSE\n",
      "QFPPDYDQQVFERHVQTHFDQNVLNFD\n",
      ">sp|O35426-2|XBP1_MOUSE Isoform 2 of X-box-binding protein 1 OS=Mus musculus (Mouse). OX=['10090']\n",
      "MVVVAAAPSAATAAPKVLLLSGQPASGGRALPLMVPGPRAAGSEASGTPQARKRQRLTHL\n",
      "SPEEKALRRKLKNRVAAQTARDRKKARMSELEQQVVDLEEENHKLQLENQLLREKTHGLV\n",
      "VENQELRTRLGMDTLDPDEVPEVEAKGSGVRLVAGSAESAAGAGPVVTSPEHLPMDSDTV\n",
      "ASSDSESDILLGILDKLDPVMFFKCPSPESASLEELPEVYPEGPSSLPASLSLSVGTSSA\n",
      "KLEAINELIRFDHVYTKPLVLEIPSETESQTNVVVKIEEAPLSSSEEDHPEFIVSVKKEP\n",
      "LEDDFIPELGISNLLSSSHCLRPPSCLLDAHSDCGYEGSPSPFSDMSSPLGTDHSWEDTF\n",
      "ANELFPQLISV\n",
      ">sp|P17861-2|XBP1_HUMAN Isoform 2 of X-box-binding protein 1 OS=Homo sapiens (Human). OX=['9606']\n",
      "MVVVAAAPNPADGTPKVLLLSGQPASAAGAPAGQALPLMVPAQRGASPEAASGGLPQARK\n",
      "RQRLTHLSPEEKALRRKLKNRVAAQTARDRKKARMSELEQQVVDLEEENQKLLLENQLLR\n",
      "EKTHGLVVENQELRQRLGMDALVAEEEAEAKGNEVRPVAGSAESAAGAGPVVTPPEHLPM\n",
      "DSGGIDSSDSESDILLGILDNLDPVMFFKCPSPEPASLEELPEVYPEGPSSLPASLSLSV\n",
      "GTSSAKLEAINELIRFDHIYTKPLVLEIPSETESQANVVVKIEEAPLSPSENDHPEFIVS\n",
      "VKEEPVEDDLVPELGISNLLSSSHCPKPSSCLLDAYSDCGYGGSLSPFSDMSSLLGVNHS\n",
      "WEDTFANELFPQLISV\n",
      ">sp|Q6P132-2|TXB1B_DANRE Isoform 2 of Tax1-binding protein 1 homolog B OS=Danio rerio (Zebrafish) (Brachydanio rerio). OX=['7955']\n",
      "MALFLEGTAASSAMETSNFAHVIFQNVGKSYLPHGALECHYTLTQFIKPHPKDWVGIFKV\n",
      "GWSTARDYYTFLWSPLPDNYTEGTAINRSVVFQGYYVPNDDGEFYQFCYVTHKGEIRGAS\n",
      "TPFQFRANSPTEEELLTMEDEGGSDILVVTTKASYLEQKMEQIQQEKKELLENLDLLQKE\n",
      "RDELIDEKNRLEKEYEQERESSAQLRKDVQELQLSAQSLQEEREEVKRRMEESTARLLQL\n",
      "EEDLIGVTQKGLQKETELDCLKDRVKKLNLEKEALEGQLKNEKDEKELYKIHLKNRELEN\n",
      "TKLSAELQMLKSVDVNKENTIAQLKDELARVKSCLAEKEKQHRQLLANSSPSGESKALRE\n",
      "QLRQKEEQLQATQQQANMLKAELRDSSNARDRSMAELYRIRVEAETLKKGQADARAECSR\n",
      "LEQQLEEMKSSTQQEAQCKESDVLAVAELQREVEDLRLRLQMAAEHYKDKYKECQKLQKQ\n",
      "VVKFNEQQGVKRSPGSDAAAGPLSASPEASAPGSPSTSDAVLDAIIHGRLKSSSKELDKN\n",
      "DKYRKCKQMLNEERERCSMITDELTKMEVKLREQMKTNESLRMQLAAEEDRYKSQVAEKG\n",
      "RELKELKDSLFVLTKEKEKLEGLQKSVNREEEQKDSNLDVQSVFLQYPMPYAQDDPSPLL\n",
      "VPQRPTDLLFGNPYSSTDSRDGADGEFSDDQMPRLPPVGPPSWDSNVVCIQPARNLSRPD\n",
      "GLEEPEEPQSTQNDDEPAAPEPAEFLNDGQMPFCFEPTGEQKRCPLCEVIFPPHYDQSKF\n",
      "EEHVESHWKICPMCSEQFPLDCDQQLFEKHVLTHFDSNVLNF\n",
      ">sp|Q66HA4-2|TAXB1_RAT Isoform 2 of Tax1-binding protein 1 homolog OS=Rattus norvegicus (Rat). OX=['10116']\n",
      "MTSFQEVPLQTSNFAHVIFQNVAKSYLPNAHLECHYTLTPYIHPHSKDWVGIFKVGWSTA\n",
      "RDYYTFLWSPMPEQYVEGSTVNCVLAFQGYYLPNDDGEFYQFCYVTHKGEIRGASTPFQF\n",
      "RAASPVEELLTMEDEGNSDMLVVTTKAGLLELKIEKTLKEKEELLKLVSVLEKETAQLRE\n",
      "QVGRMERELSHEKSRCEQLQAEQKGLLEVSQSLRVENEEFMKRYSDATSKAHQLEEDIVS\n",
      "VTHKAVEKETELDSLKDKLRKAQQEKEQLECQLKTEKDEKELYKVHLKNTEIENTKLVSE\n",
      "IQTLKNVDGNKESMITHFKEEIGKLQSCLADKENLHRALLLTTSNKEDTLLLKEQLRKAE\n",
      "EQVQATRQELIFLAKELSDAVNVRDKTMADLHTARLENERVKKQLADTLAELQLHAVKTD\n",
      "QEKTDTLEHELRREVEDLKLRLQMAADHYKEKFKECQRLQKQINKLSDQSASSNGVFTKR\n",
      "MGSQQKVNDASINTDPAASASAVDVKPAASCAAETDFDMSAKDHVCEVTKEMAEKVEKYN\n",
      "KCKQLLQDEKAKCNKYADELAQMELKWKEQVRIAENVKLELAELEDSYSVSSENVRLELA\n",
      "ELEDSYSELTKSLEDQKGRKMEGQSPQQVSRCLNTCSEQSGLLPTLPAAQPVLQYGNPYT\n",
      "AHETRDGADGAFYPDEIQRPPVRGPSWEDNVVCSQPARNLSRPDGLEDPEDSREDENVPI\n",
      "PPDPANQHLRGHGAGFCFDSSFDVHKKCPLCELMFPPNYDQIKFEEHVESHWKLPGEFFI\n",
      "EYPWATYAPHETLGPWRRLGKVLAVLSSDTQLWCEKPDISLGRQKQKILGMCWSESRQIS\n",
      "DLQVQ\n",
      ">sp|Q9UQ35-3|SRRM2_HUMAN Isoform 3 of Serine/arginine repetitive matrix protein 2 OS=Homo sapiens (Human). OX=['9606']\n",
      "MLLEKDVNPGGKEETPGQRPAVTETHQLAELNEKKNERLRAAFGISDSYVDGSSFDPQRR\n",
      "AREAKQPAPEPPKPYSLVRESSSSRSPTPKQKKKKKKKDRGRRSESSSPRRERKKSSKKK\n",
      "KHRSESESKKRKHRSPTPKSKRKSKDKKRKRSRSTTPAPKSRRAHRSTSADSASSSDTSR\n",
      "SRSRSAAAKTHTTALAGRSPSPASGRRGEGDAPFSEPGTTSTQRPSSPETATKQPSSPYE\n",
      "DKDKDKKEKSATRPSPSPERSSTGPEPPAPTPLLAERHGGSPQPLATTPLSQEPVNPSPQ\n",
      "LFMFLKGILVF\n",
      ">sp|Q9UQ35-2|SRRM2_HUMAN Isoform 2 of Serine/arginine repetitive matrix protein 2 OS=Homo sapiens (Human). OX=['9606']\n",
      "MYNGIGLPTPRGSGTNGYVQRNLSLVRGRRGERPDYKGEEELRRLEAALVKRPNPDILDH\n",
      "ERKRRVELRCLELEEMMEEQGYEEQQIQEKVATFRLMLLEKDVNPGGKEETPGQRPAVTE\n",
      "THQLAELNEKKNERLRAAFGISDSYVDGSSFDPQRRAREAKQPAPEPPKPYSLVRESSSS\n",
      "RSPTPKQKKKKKKKDRGRRSESSSPRRERKKSSKKKKHRSESESKKRKHRSPTPKSKRKS\n",
      "KDKKRKRSRSTTPAPKSRRAHRSTSADSASSSDTSRSRSRSAAAKTHTTALAGRSPSPAS\n",
      "GRRGEGDAPFSEPGTTSTQRPSSPETATKQPSSPYEDKDKDKKEKSATRPSPSPERSSTG\n",
      "PEPPAPTPLLAERHGGSPQPLATTPLSQEPVNPPSEASPTRDRSPPKSPEKLPQSSSSES\n",
      "SPPSPQPTKVSRHASSSPESPKPAPAPGSHREISSSPTSKNRSHGRAKRDKSHSHTPSRR\n",
      "MGRSRSPATAKRGRSRSRTPTKRGHSRSRSPQWRRSRSAQRWGRSRSPQRRGRSRSPQRP\n",
      "GWSRSRNTQRRGRSRSARRGRSHSRSPATRGRSRSRTPARRGRSRSRTPARRRSRSRTPT\n",
      "RRRSRSRTPARRGRSRSRTPARRRSRTRSPVRRRSRSRSPARRSGRSRSRTPARRGRSRS\n",
      "RTPARRGRSRSRTPARRSGRSRSRTPARRGRSRSRTPRRGRSRSRSLVRRGRSHSRTPQR\n",
      "RGRSGSSSERKNKSRTSQRRSRSNSSPEMKKSRISSRRSRSLSSPRSKAKSRLSLRRSLS\n",
      "GSSPCPKQKSQTPPRRSRSGSSQPKAKSRTPPRRSRSSSSPPPKQKSKTPSRQSHSSSSP\n",
      "HPKVKSGTPPRQGSITSPQANEQSVTPQRRSCFESSPDPELKSRTPSRHSCSGSSPPRVK\n",
      "SSTPPRQSPSRSSSPQPKVKAIISPRQRSHSGSSSPSPSRVTSRTTPRRSRSVSPCSNVE\n",
      "SRLLPRYSHSGSSSPDTKVKPETPPRQSHSGSISPYPKVKAQTPPGPSLSGSKSPCPQEK\n",
      "SKDSLVQSCPGSLSLCAGVKSSTPPGESYFGVSSLQLKGQSQTSPDHRSDTSSPEVRQSH\n",
      "SESPSLQSKSQTSPKGGRSRSSSPVTELASRSPIRQDRGEFSASPMLKSGMSPEQSRFQS\n",
      "DSSSYPTVDSNSLLGQSRLETAESKEKMALPPQEDATASPPRQKDKFSPFPVQDRPESSL\n",
      "VFKDTLRTPPRERSGAGSSPETKEQNSALPTSSQDEELMEVVEKSEEPAGQILSHLSSEL\n",
      "KEMSTSNFESSPEVEERPAVSLTLDQSQSQASLEAVEVPSMASSWGGPHFSPEHKELSNS\n",
      "PLRENSFGSPLEFRNSGPLGTEMNTGFSSEVKEDLNGPFLNQLETDPSLDMKEQSTRSSG\n",
      "HSSSELSPDAVEKAGMSSNQSISSPVLDAVPRTPSRERSSSASSPEMKDGLPRTPSRRSR\n",
      "SGSSPGLRDGSGTPSRHSLSGSSPGMKDIPRTPSRGRSECDSSPEPKALPQTPRPRSRSP\n",
      "SSPELNNKCLTPQRERSGSESSVDQKTVARTPLGQRSRSGSSQELDVKPSASPQERSESD\n",
      "SSPDSKAKTRTPLRQRSRSGSSPEVDSKSRLSPRRSRSGSSPEVKDKPRAAPRAQSGSDS\n",
      "SPEPKAPAPRALPRRSRSGSSSKGRGPSPEGSSSTESSPEHPPKSRTARRGSRSSPEPKT\n",
      "KSRTPPRRRSSRSSPELTRKARLSRRSRSASSSPETRSRTPPRHRRSPSVSSPEPAEKSR\n",
      "SSRRRRSASSPRTKTTSRRGRSPSPKPRGLQRSRSRSRREKTRTTRRRDRSGSSQSTSRR\n",
      "RQRSRSRSRVTRRRRGGSGYHSRSPARQESSRTSSRRRRGRSRTPPTSRKRSRSRTSPAP\n",
      "WKRSRSRASPATHRRSRSRTPLISRRRSRSRTSPVSRRRSRSRTSVTRRRSRSRASPVSR\n",
      "RRSRSRTPPVTRRRSRSRTPTTRRRSRSRTPPVTRRRSRSRTPPVTRRRSRSRTSPITRR\n",
      "RSRSRTSPVTRRRSRSRTSPVTRRRSRSRTSPVTRRRSRSRTPPAQDQPRSPVPSAFSDQ\n",
      "SRCLIAQTTPVAGSQSLSSGAVATTTSSAGDHNGMLSVPAPGVPHSDVGEPPASTGAQQP\n",
      "SALAALQPAKERRSSSSSSSSSSSSSSSSSSSSSSSSSGSSSSDSEGSSLPVQPEVALKR\n",
      "VPSPTPAPKEAVREGRPPEPTPAKRKRRSSSSSSSSSSSSSSSSSSSSSSSSSSSSSSSS\n",
      "SSSSSSSSSSPSPAKPGPQALPKPASPKKPPPGERRSRSPRKPIDSLRDSRSLSYSPVER\n",
      "RRPSPQPSPRDQQSSSSERGSRRGQRGDSRSPSHKRRRETPSPRPMRHRSSRSP\n",
      ">sp|Q13884-2|SNTB1_HUMAN Isoform 2 of Beta-1-syntrophin OS=Homo sapiens (Human). OX=['9606']\n",
      "MAVAAAAAAAGPAGAGGGRAQRSGLLEVLVRDRWHKVLVNLSEDALVLSSEEGAAAYNGI\n",
      "GTATNGSFCRGAGAGHPGAGGAQPPDSPAGVRTAFTDLPEQVPESISNQKRGVKVLKQEL\n",
      "GGLGISIKGGKENKMPILISKIFKGLAADQTQALYVGDAILSVNGADLRDATHDEAVQAL\n",
      "KRAGKEVLLEVKYMREATPYVKKGSPVSEIGWETPPPESPRLGGSTSDPPSSQSFSFHRD\n",
      "RKSIPLKMCYVTRSMALADPENRQLEIHSPDAKHTVILRSKDSATAQAWFSAIHSNVNDL\n",
      "LTRVIAEVREQLGKTGIAGSREIRHLGWLAEKVPGESKKQWKPALVVLTEKDLLIYDSMP\n",
      "RRKEAWFSPVHTYPLLATSPHP\n",
      ">sp|Q9NPB6-2|PAR6A_HUMAN Isoform 2 of Partitioning defective 6 homolog alpha OS=Homo sapiens (Human). OX=['9606']\n",
      "MARPQRTPARSPDSIVEVKSKFDAEFRRFALPRASVSGFQEFSRLLRAVHQIPGLDVLLG\n",
      "YTDAHGDLLPLTNDDSLHRALASGPPPLRLLVQKREADSSGLAFASNSLQRRKKGLLLRP\n",
      "VAPLRTRPPLLISLPQDFRQVSSVIDVDLLPETHRRVRLHKHGSDRPLGFYIRDGMSVRV\n",
      "APQGLERVPGIFISRLVRGGLAESTGLLAVSDEILEVNGIEVAGKTLDQVTDMMVANSHN\n",
      "LIVTVKPANQRNNVVRGASGRLTGPPSAGPGPAEPDSDDDSSDLVIENRQPPSSNGLSQG\n",
      "PPCWDLHPGCRHPGTRSSLPSLDDQEQASSGWGSRIRGDGSGFSL\n"
     ]
    }
   ],
   "source": [
    "for e in entries:\n",
    "    if 'Alternative splicing' in e.keywords:\n",
    "        for i in e.isoforms():\n",
    "            print(i)"
   ]
  },
  {
   "cell_type": "markdown",
   "metadata": {},
   "source": [
    "We would like to run a FASTA similarity search against Swiss-Prot for one of the sequences. Let's take the canonical sequence of the first entry in entries.\n",
    "\n",
    "Here we use the ebiwebservices module from prunito."
   ]
  },
  {
   "cell_type": "code",
   "execution_count": 11,
   "metadata": {},
   "outputs": [],
   "source": [
    "from prunito import ebiwebservices as ews"
   ]
  },
  {
   "cell_type": "code",
   "execution_count": 12,
   "metadata": {},
   "outputs": [
    {
     "name": "stdout",
     "output_type": "stream",
     "text": [
      ">sp|Q06507|ATF4_MOUSE Cyclic AMP-dependent transcription factor ATF-4 OS=Mus musculus (Mouse). OX=['10090']\n",
      "MTEMSFLNSEVLAGDLMSPFDQSGLGAEESLGLLDDYLEVAKHLKPHGFSSDKAGSSEWP\n",
      "AMDDGLASASDTGKEDAFSGTDWMLEKMDLKEFDFDALFRMDDLETMPDELLTTLDDTCD\n",
      "LFAPLVQETNKEPPQTVNPIGHLPESLIKVDQVAPFTFLQPFPCSPGVLSSTPEHSFSLE\n",
      "LGSEVDISEGDRKPDSAAYITLIPPCVKEEDTPSDNDSGICMSPESYLGSPQHSPSTSRA\n",
      "PPDNLPSPGGSRGSPRPKPYDPPGVSLTAKVKTEKLDKKLKKMEQNKTAATRYRQKKRAE\n",
      "QEALTGECKELEKKNEALKEKADSLAKEIQYLKDLIEEVRKARGKKRVP\n"
     ]
    }
   ],
   "source": [
    "first_entry = entries[0]\n",
    "print(first_entry.as_fasta())"
   ]
  },
  {
   "cell_type": "code",
   "execution_count": 13,
   "metadata": {},
   "outputs": [
    {
     "name": "stdout",
     "output_type": "stream",
     "text": [
      "No email address for EBI web service set.\n",
      "This is required for the services to work.\n",
      "Use set_email() to provide an email address.\n"
     ]
    }
   ],
   "source": [
    "# fasta_search() defaults to Swiss-Prot as target set\n",
    "similar = ews.fasta_search(first_entry.as_fasta())"
   ]
  },
  {
   "cell_type": "markdown",
   "metadata": {},
   "source": [
    "Aha, we get a message that EBI web services require an email address. "
   ]
  },
  {
   "cell_type": "code",
   "execution_count": 14,
   "metadata": {},
   "outputs": [],
   "source": [
    "ews.set_email('some@gmx.de')"
   ]
  },
  {
   "cell_type": "code",
   "execution_count": 15,
   "metadata": {},
   "outputs": [],
   "source": [
    "similar = ews.fasta_search(first_entry.as_fasta())"
   ]
  },
  {
   "cell_type": "code",
   "execution_count": 16,
   "metadata": {},
   "outputs": [
    {
     "name": "stdout",
     "output_type": "stream",
     "text": [
      "# /nfs/public/release/wp-jdispatcher/latest/appbin/linux-x86_64/fasta-36.3.7b/fasta36 -l /nfs/public/ro/es/data/idata/latest/fastacfg/fasta3db -L -T 8 -p -m \"F9 fasta-R20180430-165854-0786-71182654-p1m.m9\" @:1- +uniprotkb_swissprot+\n",
      "FASTA searches a protein or DNA sequence data bank\n",
      " version 36.3.7b Jun, 2015(preload9)\n",
      "Please cite:\n",
      " W.R. Pearson & D.J. Lipman PNAS (1988) 85:2444-2448\n",
      "\n",
      "Query: @\n",
      "  1>>>sp|Q06507|ATF4_MOUSE Cyclic AMP-dependent transcription factor ATF-4 OS=Mus musculus (Mouse). OX=['10090'] - 349 aa\n",
      "Library: UniProtKB/Swiss-Prot\n",
      "  199856860 residues in 557275 sequences\n",
      "\n",
      "Statistics:  Expectation_n fit: rho(ln(x))= 9.2785+/-0.000157; mu= 0.6906+/- 0.009\n",
      " mean_var=128.4971+/-24.729, 0's: 395 Z-trim(117.9): 509  B-trim: 0 in 0/66\n",
      " Lambda= 0.113143\n",
      " statistics sampled from 60000 (\n"
     ]
    }
   ],
   "source": [
    "print(similar.text[:800])"
   ]
  },
  {
   "cell_type": "markdown",
   "metadata": {},
   "source": [
    "Hiow about using InterPro's HMMER search instead of FASTA?"
   ]
  },
  {
   "cell_type": "code",
   "execution_count": 59,
   "metadata": {},
   "outputs": [],
   "source": [
    "from prunito import interpro"
   ]
  },
  {
   "cell_type": "code",
   "execution_count": null,
   "metadata": {},
   "outputs": [],
   "source": [
    "#ip_similar = interpro.search_phmmer(first_entry.as_fasta())"
   ]
  },
  {
   "cell_type": "code",
   "execution_count": null,
   "metadata": {},
   "outputs": [],
   "source": []
  },
  {
   "cell_type": "markdown",
   "metadata": {},
   "source": [
    "Do some of the 41 entries contain the same PubMed IDs? Let's find the 5 most common ones."
   ]
  },
  {
   "cell_type": "code",
   "execution_count": 23,
   "metadata": {},
   "outputs": [],
   "source": [
    "from collections import Counter"
   ]
  },
  {
   "cell_type": "code",
   "execution_count": 22,
   "metadata": {},
   "outputs": [
    {
     "name": "stdout",
     "output_type": "stream",
     "text": [
      "[('15489334', 24), ('20068231', 9), ('14702039', 8), ('23186163', 8), ('21269460', 7)]\n"
     ]
    }
   ],
   "source": [
    "c = Counter()\n",
    "for e in entries:\n",
    "    c.update(e.all_pubmed_ids)\n",
    "print(c.most_common(5))"
   ]
  },
  {
   "cell_type": "markdown",
   "metadata": {},
   "source": [
    "Which are the accession numbers and species of those 24 entries containing the most common one (15489334)?"
   ]
  },
  {
   "cell_type": "code",
   "execution_count": 24,
   "metadata": {
    "scrolled": true
   },
   "outputs": [
    {
     "name": "stdout",
     "output_type": "stream",
     "text": [
      "Q06507 Mus musculus (Mouse).\n",
      "P18848 Homo sapiens (Human).\n",
      "Q9Y6D9 Homo sapiens (Human).\n",
      "P47911 Mus musculus (Mouse).\n",
      "Q0VGT2 Mus musculus (Mouse).\n",
      "O14908 Homo sapiens (Human).\n",
      "Q02878 Homo sapiens (Human).\n",
      "O14910 Homo sapiens (Human).\n",
      "Q10586 Homo sapiens (Human).\n",
      "Q61330 Mus musculus (Mouse).\n",
      "P43489 Homo sapiens (Human).\n",
      "Q08AM6 Homo sapiens (Human).\n",
      "P23510 Homo sapiens (Human).\n",
      "Q86VP1 Homo sapiens (Human).\n",
      "O35426 Mus musculus (Mouse).\n",
      "P17861 Homo sapiens (Human).\n",
      "Q9DBG9 Mus musculus (Mouse).\n",
      "Q4QQV1 Rattus norvegicus (Rat).\n",
      "O14907 Homo sapiens (Human).\n",
      "Q66HA4 Rattus norvegicus (Rat).\n",
      "Q9UQ35 Homo sapiens (Human).\n",
      "Q13884 Homo sapiens (Human).\n",
      "Q3UKC1 Mus musculus (Mouse).\n",
      "Q9NPB6 Homo sapiens (Human).\n"
     ]
    }
   ],
   "source": [
    "for e in entries:\n",
    "    if '15489334' in e.all_pubmed_ids:\n",
    "        print(e.primary_accession, e.organism)"
   ]
  },
  {
   "cell_type": "markdown",
   "metadata": {},
   "source": [
    "So, which paper is hiding behind this PMID 15489334? Here we use another module from prunito."
   ]
  },
  {
   "cell_type": "code",
   "execution_count": 25,
   "metadata": {},
   "outputs": [],
   "source": [
    "from prunito import europepmc as epmc"
   ]
  },
  {
   "cell_type": "code",
   "execution_count": 26,
   "metadata": {},
   "outputs": [],
   "source": [
    "paper = epmc.get_pmid_metadata('15489334')"
   ]
  },
  {
   "cell_type": "markdown",
   "metadata": {},
   "source": [
    "EuropePMC returns data for example in JSON format. Currently, there are no convenience methods to access the fields therein."
   ]
  },
  {
   "cell_type": "code",
   "execution_count": 29,
   "metadata": {},
   "outputs": [
    {
     "data": {
      "text/plain": [
       "'The status, quality, and expansion of the NIH full-length cDNA project: the Mammalian Gene Collection (MGC).'"
      ]
     },
     "execution_count": 29,
     "metadata": {},
     "output_type": "execute_result"
    }
   ],
   "source": [
    "paper.json()['resultList']['result'][0]['title']"
   ]
  },
  {
   "cell_type": "code",
   "execution_count": 32,
   "metadata": {},
   "outputs": [
    {
     "data": {
      "text/plain": [
       "\"The National Institutes of Health's Mammalian Gene Collection (MGC) project was designed to generate and sequence a publicly accessible cDNA resource containing a complete open reading frame (ORF) for every human and mouse gene. The project initially used a random strategy to select clones from a large number of cDNA libraries from diverse tissues. Candidate clones were chosen based on 5'-EST sequences, and then fully sequenced to high accuracy and analyzed by algorithms developed for this project. Currently, more than 11,000 human and 10,000 mouse genes are represented in MGC by at least one clone with a full ORF. The random selection approach is now reaching a saturation point, and a transition to protocols targeted at the missing transcripts is now required to complete the mouse and human collections. Comparison of the sequence of the MGC clones to reference genome sequences reveals that most cDNA clones are of very high sequence quality, although it is likely that some cDNAs may carry missense variants as a consequence of experimental artifact, such as PCR, cloning, or reverse transcriptase errors. Recently, a rat cDNA component was added to the project, and ongoing frog (Xenopus) and zebrafish (Danio) cDNA projects were expanded to take advantage of the high-throughput MGC pipeline.\""
      ]
     },
     "execution_count": 32,
     "metadata": {},
     "output_type": "execute_result"
    }
   ],
   "source": [
    "paper.json()['resultList']['result'][0]['abstractText']"
   ]
  },
  {
   "cell_type": "markdown",
   "metadata": {},
   "source": [
    "As the paper mentions the Mammalian Gene Collection, why not search EuropePMC for articles mentioning the collection in their abstracts?"
   ]
  },
  {
   "cell_type": "code",
   "execution_count": 33,
   "metadata": {},
   "outputs": [],
   "source": [
    "mgc_papers = epmc.search('abstract:\"Mammalian Gene Collection\"')"
   ]
  },
  {
   "cell_type": "code",
   "execution_count": 41,
   "metadata": {},
   "outputs": [
    {
     "data": {
      "text/plain": [
       "24"
      ]
     },
     "execution_count": 41,
     "metadata": {},
     "output_type": "execute_result"
    }
   ],
   "source": [
    "mgc_papers.json()['hitCount']"
   ]
  },
  {
   "cell_type": "code",
   "execution_count": 44,
   "metadata": {
    "scrolled": true
   },
   "outputs": [
    {
     "name": "stdout",
     "output_type": "stream",
     "text": [
      "0 Identification of candidate transcription factor binding sites in the cattle genome.\n",
      "1 Selenoproteins in bladder cancer.\n",
      "2 NSrp70 is a novel nuclear speckle-related protein that modulates alternative pre-mRNA splicing in vivo.\n",
      "3 Generation of a genome scale lentiviral vector library for EF1α promoter-driven expression of human ORFs and identification of human genes affecting viral titer.\n",
      "4 The completion of the Mammalian Gene Collection (MGC).\n",
      "5 A high-throughput platform for lentiviral overexpression screening of the human ORFeome.\n",
      "6 PRFdb: a database of computationally predicted eukaryotic programmed -1 ribosomal frameshift signals.\n",
      "7 Transcriptome analysis of a cDNA library from adult human epididymis.\n",
      "8 Construction and characterization of a normalized yeast two-hybrid library derived from a human protein-coding clone collection.\n",
      "9 Evaluation of vector-primed cDNA library production from microgram quantities of total RNA.\n",
      "10 Concatenation cDNA sequencing for transcriptome analysis.\n",
      "11 Targeted discovery of novel human exons by comparative genomics.\n",
      "12 Generation and initial analysis of more than 15,000 full-length human and mouse cDNA sequences.\n",
      "13 1274 full-open reading frames of transcripts expressed in the developing mouse nervous system.\n",
      "14 The status, quality, and expansion of the NIH full-length cDNA project: the Mammalian Gene Collection (MGC).\n",
      "15 Identification and characterisation of human apoptosis inducing proteins using cell-based transfection microarrays and expression analysis.\n",
      "16 The mammalian gene collection.\n",
      "17 Human ORFeome version 1.1: a platform for reverse proteomics.\n",
      "18 Analysis of human mRNAs with the reference genome sequence reveals potential errors, polymorphisms, and RNA editing.\n",
      "19 3'-UTR SIRF: a database for identifying clusters of whort interspersed repeats in 3' untranslated regions.\n",
      "20 Identification and functional analysis of human transcriptional promoters.\n",
      "21 An efficient strategy for large-scale high-throughput transposon-mediated sequencing of cDNA clones.\n",
      "22 Genome and genetic resources from the Cancer Genome Anatomy Project.\n",
      "23 Systematic recovery and analysis of full-ORF human cDNA clones.\n"
     ]
    }
   ],
   "source": [
    "for idx, hit in enumerate(mgc_papers.json()['resultList']['result']):\n",
    "    print(idx, hit['title'])"
   ]
  },
  {
   "cell_type": "markdown",
   "metadata": {},
   "source": [
    "Each hit/paper has many extra data fields including DOI, PubMed ID etc. If the abstract is needed, resulttype='core' has to be specified as a search parameter."
   ]
  },
  {
   "cell_type": "code",
   "execution_count": 50,
   "metadata": {
    "scrolled": true
   },
   "outputs": [
    {
     "name": "stdout",
     "output_type": "stream",
     "text": [
      "id:\t23433959\n",
      "source:\tMED\n",
      "pmid:\t23433959\n",
      "pmcid:\tPMC4357788\n",
      "doi:\t10.1016/j.gpb.2012.10.004\n",
      "title:\tIdentification of candidate transcription factor binding sites in the cattle genome.\n",
      "authorString:\tBickhart DM, Liu GE.\n",
      "journalTitle:\tGenomics Proteomics Bioinformatics\n",
      "issue:\t3\n",
      "journalVolume:\t11\n",
      "pubYear:\t2013\n",
      "journalIssn:\t1672-0229; 2210-3244; \n",
      "pageInfo:\t195-198\n",
      "pubType:\tresearch support, non-u.s. gov't; research-article; research support, u.s. gov't, non-p.h.s.; journal article; \n",
      "isOpenAccess:\tY\n",
      "inEPMC:\tY\n",
      "inPMC:\tN\n",
      "hasPDF:\tY\n",
      "hasBook:\tN\n",
      "hasSuppl:\tY\n",
      "citedByCount:\t4\n",
      "hasReferences:\tY\n",
      "hasTextMinedTerms:\tY\n",
      "hasDbCrossReferences:\tN\n",
      "hasLabsLinks:\tY\n",
      "hasTMAccessionNumbers:\tN\n",
      "firstPublicationDate:\t2013-02-01\n"
     ]
    }
   ],
   "source": [
    "for k, v in mgc_papers.json()['resultList']['result'][0].items():\n",
    "    print(k + ':\\t' + str(v))"
   ]
  }
 ],
 "metadata": {
  "kernelspec": {
   "display_name": "Python 3",
   "language": "python",
   "name": "python3"
  },
  "language_info": {
   "codemirror_mode": {
    "name": "ipython",
    "version": 3
   },
   "file_extension": ".py",
   "mimetype": "text/x-python",
   "name": "python",
   "nbconvert_exporter": "python",
   "pygments_lexer": "ipython3",
   "version": "3.6.4"
  }
 },
 "nbformat": 4,
 "nbformat_minor": 2
}
