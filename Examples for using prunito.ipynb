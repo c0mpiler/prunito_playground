{
 "cells": [
  {
   "cell_type": "markdown",
   "metadata": {
    "slideshow": {
     "slide_type": "slide"
    }
   },
   "source": [
    "## Examples for using prunito"
   ]
  },
  {
   "cell_type": "code",
   "execution_count": 1,
   "metadata": {},
   "outputs": [
    {
     "data": {
      "text/plain": [
       "'0.94.1'"
      ]
     },
     "execution_count": 1,
     "metadata": {},
     "output_type": "execute_result"
    }
   ],
   "source": [
    "import prunito\n",
    "prunito.__version__"
   ]
  },
  {
   "cell_type": "markdown",
   "metadata": {},
   "source": [
    "### Searching and parsing UniProtKB data\n",
    "\n",
    "Prunito allows searching uniprot.org and parsing entries in flat file (text) format. First, import the relevant package:"
   ]
  },
  {
   "cell_type": "code",
   "execution_count": 2,
   "metadata": {},
   "outputs": [],
   "source": [
    "from prunito import uniprot as up"
   ]
  },
  {
   "cell_type": "markdown",
   "metadata": {},
   "source": [
    "A simple search for all reviewed UniProtKB entries with 'tax' in their names."
   ]
  },
  {
   "cell_type": "code",
   "execution_count": 3,
   "metadata": {},
   "outputs": [],
   "source": [
    "result = up.search_reviewed('name:tax')"
   ]
  },
  {
   "cell_type": "markdown",
   "metadata": {},
   "source": [
    "Check how many hits this search retrieved."
   ]
  },
  {
   "cell_type": "code",
   "execution_count": 4,
   "metadata": {},
   "outputs": [
    {
     "data": {
      "text/plain": [
       "41"
      ]
     },
     "execution_count": 4,
     "metadata": {},
     "output_type": "execute_result"
    }
   ],
   "source": [
    "result.size()\n",
    "# or\n",
    "#len(result)"
   ]
  },
  {
   "cell_type": "markdown",
   "metadata": {},
   "source": [
    "What would happen if a given query had many hits? By default, the maximum number of hits retrieved is 2000. This can be changed using the parameter 'limit'.\n",
    "\n",
    "Let's re-run the previous search but this time not just for reviewed (i.e. Swiss-Prot) entries but all of UniProtKB:"
   ]
  },
  {
   "cell_type": "code",
   "execution_count": 5,
   "metadata": {},
   "outputs": [
    {
     "name": "stdout",
     "output_type": "stream",
     "text": [
      "Partial dataset retrieved. Size: 1890. Retrieved: 1000.\n",
      "Consider increasing the limit and/or using offset.\n"
     ]
    }
   ],
   "source": [
    "huge = up.search('name:tax', limit=1000)"
   ]
  },
  {
   "cell_type": "markdown",
   "metadata": {},
   "source": [
    "If the set limit is lower than the actual number of search hits, the above hint is printed."
   ]
  },
  {
   "cell_type": "code",
   "execution_count": 6,
   "metadata": {},
   "outputs": [
    {
     "data": {
      "text/plain": [
       "1890"
      ]
     },
     "execution_count": 6,
     "metadata": {},
     "output_type": "execute_result"
    }
   ],
   "source": [
    "# Approach 1: increase the limit of allowed hits\n",
    "new_limit = up.search('name:tax', limit=2000)\n",
    "new_limit.size()\n",
    "#"
   ]
  },
  {
   "cell_type": "markdown",
   "metadata": {},
   "source": [
    "Back to the initial result, the one with size of 41. What does 41 mean? UniProtKB entries. And these entries we would like to parse. As prunito provides functionality for both searching and parsing UniProt, one can directly iterate over the entries in a search result for convenience:"
   ]
  },
  {
   "cell_type": "code",
   "execution_count": 7,
   "metadata": {},
   "outputs": [],
   "source": [
    "entries = list(result)\n",
    "# or\n",
    "# for entry in result: ..."
   ]
  },
  {
   "cell_type": "markdown",
   "metadata": {},
   "source": [
    "Iterate over the 41 entries, printing out primary accessions and recommended full names. Both fields are provided for convenience (unlike Biopython's Record object which does not have this)."
   ]
  },
  {
   "cell_type": "code",
   "execution_count": 8,
   "metadata": {
    "scrolled": true
   },
   "outputs": [
    {
     "name": "stdout",
     "output_type": "stream",
     "text": [
      "Q06507 Cyclic AMP-dependent transcription factor ATF-4\n",
      "P18848 Cyclic AMP-dependent transcription factor ATF-4\n",
      "Q9Y6D9 Mitotic spindle assembly checkpoint protein MAD1\n",
      "P47911 60S ribosomal protein L6\n",
      "P10070 Zinc finger protein GLI2\n",
      "Q0VGT2 Zinc finger protein GLI2\n",
      "O14908 PDZ domain-containing protein GIPC1\n",
      "Q02878 60S ribosomal protein L6\n",
      "O14910 Protein lin-7 homolog A\n",
      "Q10586 D site-binding protein\n",
      "P22063 Contactin-2\n",
      "Q02246 Contactin-2\n",
      "Q61330 Contactin-2\n",
      "P43489 Tumor necrosis factor receptor superfamily member 4\n",
      "Q08AM6 Protein VAC14 homolog\n",
      "P47030 Protein TAX4\n",
      "Q5R4U3 Tax1-binding protein 1 homolog\n",
      "Q4U0X7 Protein Tax-3\n",
      "P0C222 Protein Tax-1\n",
      "P23510 Tumor necrosis factor ligand superfamily member 4\n",
      "A6ZPP1 Protein TAX4\n",
      "Q2KJE0 Tax1-binding protein 1 homolog\n",
      "Q86VP1 Tax1-binding protein 1\n",
      "P14079 Protein Tax-1\n",
      "O35426 X-box-binding protein 1\n",
      "P17861 X-box-binding protein 1\n",
      "Q9DBG9 Tax1-binding protein 3\n",
      "Q6P132 Tax1-binding protein 1 homolog B\n",
      "Q4QQV1 Tax1-binding protein 3\n",
      "Q1LWB0 Tax1-binding protein 1 homolog A\n",
      "O14907 Tax1-binding protein 3\n",
      "Q6P3P1 Tax1-binding protein 1 homolog\n",
      "Q0R5R1 Protein Tax-3\n",
      "Q66HA4 Tax1-binding protein 1 homolog\n",
      "P03409 Protein Tax-1\n",
      "Q9UQ35 Serine/arginine repetitive matrix protein 2\n",
      "Q13884 Beta-1-syntrophin\n",
      "Q3UKC1 Tax1-binding protein 1 homolog\n",
      "P0C213 Protein Tax-1\n",
      "P03410 Protein Tax-2\n",
      "Q9NPB6 Partitioning defective 6 homolog alpha\n"
     ]
    }
   ],
   "source": [
    "for entry in entries:\n",
    "    print(entry.primary_accession, entry.recommended_full_name)"
   ]
  },
  {
   "cell_type": "markdown",
   "metadata": {},
   "source": [
    "Which methods and fields are available on a Record object?"
   ]
  },
  {
   "cell_type": "code",
   "execution_count": 9,
   "metadata": {
    "scrolled": true
   },
   "outputs": [
    {
     "name": "stdout",
     "output_type": "stream",
     "text": [
      "accessions\n",
      "all_pubmed_ids\n",
      "annotation_update\n",
      "as_fasta\n",
      "comments\n",
      "created\n",
      "cross_references\n",
      "data_class\n",
      "description\n",
      "ec_numbers\n",
      "entry_name\n",
      "features\n",
      "gene_name\n",
      "host_organism\n",
      "host_taxonomy_id\n",
      "isoforms\n",
      "keywords\n",
      "molecule_type\n",
      "organelle\n",
      "organism\n",
      "organism_classification\n",
      "primary_accession\n",
      "primary_gene_name\n",
      "recommended_full_name\n",
      "references\n",
      "seqinfo\n",
      "sequence\n",
      "sequence_length\n",
      "sequence_update\n",
      "taxonomy_id\n"
     ]
    }
   ],
   "source": [
    "for item in dir(entries[0]):\n",
    "    if not item.startswith('_'):\n",
    "        print(item)"
   ]
  },
  {
   "cell_type": "markdown",
   "metadata": {},
   "source": [
    "Get isoforms for those entries that have them. We use the presence of a keyword, 'Alternative splicing', as a filter here."
   ]
  },
  {
   "cell_type": "code",
   "execution_count": 10,
   "metadata": {
    "scrolled": true
   },
   "outputs": [
    {
     "name": "stdout",
     "output_type": "stream",
     "text": [
      ">sp|Q9Y6D9-2|MD1L1_HUMAN Isoform 2 of Mitotic spindle assembly checkpoint protein MAD1 OS=Homo sapiens (Human). OX=['9606']\n",
      "MLPARGCVRKRTVWPRLARVLIVTLLTLELSYAPLPCQLSGVPYNTGDPVGRWARPCIWP\n",
      "CPWHTTINALKGRISELQWSVMDQEMRVKRLESEKQELQEQLDLQHKKCQEANQKIQELQ\n",
      "ASQEARADHEQQIKDLEQKLSLQEQDAAIVKNMKSELVRLPRLERELKQLREESAHLREM\n",
      "RETNGLLQEELEGLQRKLGRQEKMQETLVGLELENERLLAKLQSWERLDQTMGLSIRTPE\n",
      "DLSRFVVELQQRELALKDKNSAVTSSARGLEKARQQLQEELRQVSGQLLEERKKRETHEA\n",
      "LARRLQKRVLLLTKERDGMRAILGSYDSELTPAEYSPQLTRRMREAEDMVQKVHSHSAEM\n",
      "EAQLSQALEELGGQKQRADMLEMELKMLKSQSSSAEQSFLFSREEADTLRLKVEELEGER\n",
      "SRLEEEKRMLEAQLERRALQGDYDQSRTKVLHMSLNPTSVARQRLREDHSQLQAECERLR\n",
      "GLLRAMERGGTVPADLEAAAASLPSSKEVAELKKQVESAELKNQRLKEVFQTKIQEFRKA\n",
      "CYTLTGYQIDITTENQYRLTSLYAEHPGDCLIFKATSPSGSKMQLLETEFSHTVGELIEV\n",
      "HLRRQDSIPAFLSSLTLELFSRQTVA\n",
      ">sp|P10070-1|GLI2_HUMAN Isoform 1 of Zinc finger protein GLI2 OS=Homo sapiens (Human). OX=['9606']\n",
      "MALTSINATPTQLSSSSNCLSDTNQNKQSSESAVSSTVNPVAIHKRSKVKTEPEGLRPAS\n",
      "PLALTQGQVSGHGSCGCALPLSQEQLADLKEDLDRDDCKQEAEVVIYETNCHWEDCTKEY\n",
      "DTQEQLVHHINNEHIHGEKKEFVCRWQACTREQKPFKAQYMLVVHMRRHTGEKPHKCTFE\n",
      "GCSKAYSRLENLKTHLRSHTGEKPYVCEHEGCNKAFSNASDRAKHQNRTHSNEKPYICKI\n",
      "PGCTKRYTDPSSLRKHVKTVHGPDAHVTKKQRNDVHLRTPLLKENGDSEAGTEPGGPEST\n",
      "EASSTSQAVEDCLHVRAIKTESSGLCQSSPGAQSSCSSEPSPLGSAPNNDSGVEMPGTGP\n",
      "GSLGDLTALDDTPPGADTSALAAPSAGGLQLRKHMTTMHRFEQLKKEKLKSLKDSCSWAG\n",
      "PTPHTRNTKLPPLPGSGSILENFSGSGGGGPAGLLPNPRLSELSASEVTMLSQLQERRDS\n",
      "STSTVSSAYTVSRRSSGISPYFSSRRSSEASPLGAGRPHNASSADSYDPISTDASRRSSE\n",
      "ASQCSGGSGLLNLTPAQQYSLRAKYAAATGGPPPTPLPGLERMSLRTRLALLDAPERTLP\n",
      "AGCPRPLGPRRGSDGPTYGHGHAGAAPAFPHEAPGGGARRASDPVRRPDALSLPRVQRFH\n",
      "STHNVNPGPLPPCADRRGLRLQSHPSTDGGLARGAYSPRPPSISENVAMEAVAAGVDGAG\n",
      "PEADLGLPEDDLVLPDDVVQYIKAHASGALDEGTGQVYPTESTGFSDNPRLPSPGLHGQR\n",
      "RMVAADSNVGPSAPMLGGCQLGFGAPSSLNKNNMPVQWNEVSSGTVDALASQVKPPPFPQ\n",
      "GNLAVVQQKPAFGQYPGYSPQGLQASPGGLDSTQPHLQPRSGAPSQGIPRVNYMQQLRQP\n",
      "VAGSQCPGMTTTMSPHACYGQVHPQLSPSTISGALNQFPQSCSNMPAKPGHLGHPQQTEV\n",
      "APDPTTMGNRHRELGVPDSALAGVPPPHPVQSYPQQSHHLAASMSQEGYHQVPSLLPARQ\n",
      "PGFMEPQTGPMGVATAGFGLVQPRPPLEPSPTGRHRGVRAVQQQLAYARATGHAMAAMPS\n",
      "SQETAEAVPKGAMGNMGSVPPQPPPQDAGGAPDHSMLYYYGQIHMYEQDGGLENLGSCQV\n",
      "MRSQPPQPQACQDSIQPQPLPSPGVNQVSSTVDSQLLEAPQIDFDAIMDDGDHSSLFSGA\n",
      "LSPSLLHSLSQNSSRLTTPRNSLTLPSIPAGISNMAVGDMSSMLTSLAEESKFLNMMT\n",
      ">sp|P10070-2|GLI2_HUMAN Isoform 2 of Zinc finger protein GLI2 OS=Homo sapiens (Human). OX=['9606']\n",
      "MALTSINATPTQLSSSSNCLSDTNQNKQSSESAVSSTVNPVAIHKRSKVKTEPEGLRPAS\n",
      "PLALTQEQLADLKEDLDRDDCKQEAEVVIYETNCHWEDCTKEYDTQEQLVHHINNEHIHG\n",
      "EKKEFVCRWQACTREQKPFKAQYMLVVHMRRHTGEKPHKCTFEGCSKAYSRLENLKTHLR\n",
      "SHTGEKPYVCEHEGCNKAFSNASDRAKHQNRTHSNEKPYICKIPGCTKRYTDPSSLRKHV\n",
      "KTVHGPDAHVTKKQRNDVHLRTPLLKENGDSEAGTEPGGPESTEASSTSQAVEDCLHVRA\n",
      "IKTESSGLCQSSPGAQSSCSSEPSPLGSAPNNDSGVEMPGTGPGSLGDLTALDDTPPGAD\n",
      "TSALAAPSAGGLQLRKHMTTMHRFEQLKKEKLKSLKDSCSWAGPTPHTRNTKLPPLPGSG\n",
      "SILENFSGSGGGGPAGLLPNPRLSELSASEVTMLSQLQERRDSSTSTVSSAYTVSRRSSG\n",
      "ISPYFSSRRSSEASPLGAGRPHNASSADSYDPISTDASRRSSEASQCSGGSGLLNLTPAQ\n",
      "QYSLRAKYAAATGGPPPTPLPGLERMSLRTRLALLDAPERTLPAGCPRPLGPRRGSDGPT\n",
      "YGHGHAGAAPAFPHEAPGGGARRASDPVRRPDALSLPRVQRFHSTHNVNPGPLPPCADRR\n",
      "GLRLQSHPSTDGGLARGAYSPRPPSISENVAMEAVAAGVDGAGPEADLGLPEDDLVLPDD\n",
      "VVQYIKAHASGALDEGTGQVYPTESTGFSDNPRLPSPGLHGQRRMVAADSNVGPSAPMLG\n",
      "GCQLGFGAPSSLNKNNMPVQWNEVSSGTVDALASQVKPPPFPQGNLAVVQQKPAFGQYPG\n",
      "YSPQGLQASPGGLDSTQPHLQPRSGAPSQGIPRVNYMQQLRQPVAGSQCPGMTTTMSPHA\n",
      "CYGQVHPQLSPSTISGALNQFPQSCSNMPAKPGHLGHPQQTEVAPDPTTMGNRHRELGVP\n",
      "DSALAGVPPPHPVQSYPQQSHHLAASMSQEGYHQVPSLLPARQPGFMEPQTGPMGVATAG\n",
      "FGLVQPRPPLEPSPTGRHRGVRAVQQQLAYARATGHAMAAMPSSQETAEAVPKGAMGNMG\n",
      "SVPPQPPPQDAGGAPDHSMLYYYGQIHMYEQDGGLENLGSCQVMRSQPPQPQACQDSIQP\n",
      "QPLPSPGVNQVSSTVDSQLLEAPQIDFDAIMDDGDHSSLFSGALSPSLLHSLSQNSSRLT\n",
      "TPRNSLTLPSIPAGISNMAVGDMSSMLTSLAEESKFLNMMT\n",
      ">sp|P10070-3|GLI2_HUMAN Isoform 3 of Zinc finger protein GLI2 OS=Homo sapiens (Human). OX=['9606']\n",
      "MALTSINATPTQLSSSSNCLSDTNQNKQSSESAVSSTVNPVAIHKRSKVKTEPEGLRPAS\n",
      "PLALTQGQVSGHGSCGCALPLSQEQLADLKEDLDRDDCKQEAEVVIYETNCHWEDCTKEY\n",
      "DTQEQLVHHINNEHIHGEKKEFVCRWQACTREQKPFKAQYMLVVHMRRHTGEKPHKCTFE\n",
      "GCSKAYSRLENLKTHLRSHTGEKPYVCEHEGCNKAFSNASDRAKHQNRTHSNEKPYICKI\n",
      "PGCTKRYTDPSSLRKHVKTVHGPDAHVTKKQRNDVHLRTPLLKENGDSEAGTEPGGPEST\n",
      "EASSTSQAVEDCLHVRAIKTESSGLCQSSPGAQSSCSSEPSPLGSAPNNDSGVEMPGTGP\n",
      "GSLGDLTALDDTPPGADTSALAAPSAGGLQLRKHMTTMHRFEQLKKEKLKSLKDSCSWAG\n",
      "PTPHTRNTKLPPLPGSGSILENFSGSGGGGPAGLLPNPRLSELSASEVTMLSQLQERRDS\n",
      "STSTVSSAYTVSRRSSGISPYFSSRRSSEASPLGAGRPHNASSADSYDPISTDASRRSSE\n",
      "ASQCSGGSGLLNLTPAQQYSLRAKYAAATGGPPPTPLPGLERMSLRTRLALLDAPERTLP\n",
      "AGCPRPLGPRRGSDGPTYGHGHAGAAPAFPHEAPGGGARRASDPVRRPDALSLPRVQRFH\n",
      "STHNVNPGPLPPCADRRGLRLQSHPSTDGGLARGAYSPRPPSISENVAMEAVAAGVDGAG\n",
      "PEADLGLPEDDLVLPDDVVQYIKAHASGALDEGTGQVYPTESTGFSDNPRLPSPGLHGQR\n",
      "RMVAADSNVGPSAPMLGGCQLGFGAPSSLNKNNMPVQWNEASATWLSGT\n",
      ">sp|P10070-4|GLI2_HUMAN Isoform 4 of Zinc finger protein GLI2 OS=Homo sapiens (Human). OX=['9606']\n",
      "MALTSINATPTQLSSSSNCLSDTNQNKQSSESAVSSTVNPVAIHKRSKVKTEPEGLRPAS\n",
      "PLALTQEQLADLKEDLDRDDCKQEAEVVIYETNCHWEDCTKEYDTQEQLVHHINNEHIHG\n",
      "EKKEFVCRWQACTREQKPFKAQYMLVVHMRRHTGEKPHKCTFEGCSKAYSRLENLKTHLR\n",
      "SHTGEKPYVCEHEGCNKAFSNASDRAKHQNRTHSNEKPYICKIPGCTKRYTDPSSLRKHV\n",
      "KTVHGPDAHVTKKQRNDVHLRTPLLKENGDSEAGTEPGGPESTEASSTSQAVEDCLHVRA\n",
      "IKTESSGLCQSSPGAQSSCSSEPSPLGSAPNNDSGVEMPGTGPGSLGDLTALDDTPPGAD\n",
      "TSALAAPSAGGLQLRKHMTTMHRFEQLKKEKLKSLKDSCSWAGPTPHTRNTKLPPLPGSG\n",
      "SILENFSGSGGGGPAGLLPNPRLSELSASEVTMLSQLQERRDSSTSTVSSAYTVSRRSSG\n",
      "ISPYFSSRRSSEASPLGAGRPHNASSADSYDPISTDASRRSSEASQCSGGSGLLNLTPAQ\n",
      "QYSLRAKYAAATGGPPPTPLPGLERMSLRTRLALLDAPERTLPAGCPRPLGPRRGSDGPT\n",
      "YGHGHAGAAPAFPHEAPGGGARRASDPVRRPDALSLPRVQRFHSTHNVNPGPLPPCADRR\n",
      "GLRLQSHPSTDGGLARGAYSPRPPSISENVAMEAVAAGVDGAGPEADLGLPEDDLVLPDD\n",
      "VVQYIKAHASGALDEGTGQVYPTESTGFSDNPRLPSPGLHGQRRMVAADSNVGPSAPMLG\n",
      "GCQLGFGAPSSLNKNNMPVQWNEASATWLSGT\n",
      ">sp|O14908-2|GIPC1_HUMAN Isoform 2 of PDZ domain-containing protein GIPC1 OS=Homo sapiens (Human). OX=['9606']\n",
      "MFCTLNTHKVDMDKLLGGQIGLEDFIFAHVKGQRKEVEVFKSEDALGLTITDNGAGYAFI\n",
      "KRIKEGSVIDHIHLISVGDMIEAINGQSLLGCRHYEVARLLKELPRGRTFTLKLTEPRKA\n",
      "FDMISQRSAGGRPGSGPQLGTGRGTLRLRSRGPATVEDLPSAFEEKAIEKVDDLLESYMG\n",
      "IRDTELAATMVELGKDKRNPDELAEALDERLGDFAFPDEFVFDVWGAIGDAKVGRY\n",
      ">sp|Q08AM6-2|VAC14_HUMAN Isoform 2 of Protein VAC14 homolog OS=Homo sapiens (Human). OX=['9606']\n",
      "MADILLREEDLKFASTMVHALNTILLTSTELFQLRNQLKDLKTLESQNLFCCLYRSWCHN\n",
      "PVTTVSLCFLTQNYRHAYDLIQKFGDLEVTVDFLAEVDKLVQLIECPIFTYLRLQLLDVK\n",
      "NNPYLIKALYGLLMLLPQSSAFQLLSHRLQCVPNPELLQTEDSLKAAPKSQKADSPSIDY\n",
      "AELLQHFEKVQNKHLEVRHQRSGRGDHLDRRVVL\n",
      ">sp|Q5R4U3-2|TAXB1_PONAB Isoform 2 of Tax1-binding protein 1 homolog OS=Pongo abelii (Sumatran orangutan) (Pongo pygmaeus abelii). OX=['9601']\n",
      "MTSFQEVPLQTSNFAHVIFQNVAKSYLPNAHLECHYTLTPYIHPHPKDWVGIFKVGWSTA\n",
      "RDYYTFLWSPMPEHYVEGSTVNCVLAFQGYYLPNDDGEFYQFCYVTHKGEIRGASTPFQF\n",
      "RASSPVEELLTMEDEGNSDMLVVTTKAGLLELKIEKTMKEKEELLKLIAVLEKETAQLRE\n",
      "QVGRMERELNHEKERCDQLQAEQKGLTEVTQSLKMENEEFKKRFSDATSKAHQLEEDIVS\n",
      "VTHKAIEKETELDSLKDKLKKAQHEREQLECQLKTEKDEKELYKVHLKNTEIENTKLMSE\n",
      "VQTLKNLDGNKESVITHFKEEIGRLQLCLAEKENLQRTFLLTTSSKEDTFFLKEQLRKAE\n",
      "EQVQATRQEVVFLAKELSDAVNVRDRTMADLHTARLENEKVKKQLADAVAELKLNAMKKD\n",
      "QDKTDTLEHELRREVEDLKLRLQMAADHYKEKFKECQRLQKQINKLSDQSANNNNVFTKK\n",
      "MGNQQKVNDASVNTDPATSASTVDVKPSPSAAEADFDIVTKGQVCEMTKEIADKTEKYNK\n",
      "CKQLLQDEKAKCNKYADELAKMELKWKEQVKIAENVKLELAEVQDNYKELKRSLENQAER\n",
      "KMEGQNSQSPQCLKTCSEQNGYVLTLSNAQPVLQYGNPYASQETRDGADGAFYPDEIQRP\n",
      "PVRVPSWGLEDNVVCSQPARNLSRPDGLEDSEDSKEDENAPTAPDPPSQHLRGHGTGFCF\n",
      "DSSFDVHKKCPLCELMFPPNYDQSKFEEHVESHWKVCPMCSEQFPPDYDQQVFERHVQTH\n",
      "FDQNVLNFD\n",
      ">sp|P23510-2|TNFL4_HUMAN Isoform 2 of Tumor necrosis factor ligand superfamily member 4 OS=Homo sapiens (Human). OX=['9606']\n",
      "MVSHRYPRIQSIKVQFTEYKKEKGFILTSQKEDEIMKVQNNSVIINCDGFYLISLKGYFS\n",
      "QEVNISLHYQKDEEPLFQLKKVRSVNSLMVASLTYKDKVYLNVTTDNTSLDDFHVNGGEL\n",
      "ILIHQNPGEFCVL\n",
      ">sp|Q86VP1-3|TAXB1_HUMAN Isoform 3 of Tax1-binding protein 1 OS=Homo sapiens (Human). OX=['9606']\n",
      "MERELNHEKERCDQLQAEQKGLTEVTQSLKMENEEFKKRFSDATSKAHQLEEDIVSVTHK\n",
      "AIEKETELDSLKDKLKKAQHEREQLECQLKTEKDEKELYKVHLKNTEIENTKLMSEVQTL\n",
      "KNLDGNKESVITHFKEEIGRLQLCLAEKENLQRTFLLTTSSKEDTCFLKEQLRKAEEQVQ\n",
      "ATRQEVVFLAKELSDAVNVRDRTMADLHTARLENEKVKKQLADAVAELKLNAMKKDQDKT\n",
      "DTLEHELRREVEDLKLRLQMAADHYKEKFKECQRLQKQINKLSDQSANNNNVFTKKTGNQ\n",
      "QKVNDASVNTDPATSASTVDVKPSPSAAEADFDIVTKGQVCEMTKEIADKTEKYNKCKQL\n",
      "LQDEKAKCNKYADELAKMELKWKEQVKIAENVKLELAEVQDNYKELKRSLENPAERKMED\n",
      "GADGAFYPDEIQRPPVRVPSWGLEDNVVCSQPARNFSRPDGLEDSEDSKEDENVPTAPDP\n",
      "PSQHLRGHGTGFCFDSSFDVHKKCPLCELMFPPNYDQSKFEEHVESHWKVCPMCSEQFPP\n",
      "DYDQQVFERHVQTHFDQNVLNFD\n",
      ">sp|Q86VP1-4|TAXB1_HUMAN Isoform 4 of Tax1-binding protein 1 OS=Homo sapiens (Human). OX=['9606']\n",
      "MKEKEELLKLIAVLEKETAQLREQVGRMERELNHEKERCDQLQAEQKGLTEVTQSLKMEN\n",
      "EEFKKRFSDATSKAHQLEEDIVSVTHKAIEKETELDSLKDKLKKAQHEREQLECQLKTEK\n",
      "DEKELYKVHLKNTEIENTKLMSEVQTLKNLDGNKESVITHFKEEIGRLQLCLAEKENLQR\n",
      "TFLLTTSSKEDTCFLKEQLRKAEEQVQATRQEVVFLAKELSDAVNVRDRTMADLHTARLE\n",
      "NEKVKKQLADAVAELKLNAMKKDQDKTDTLEHELRREVEDLKLRLQMAADHYKEKFKECQ\n",
      "RLQKQINKLSDQSANNNNVFTKKTGNQQKVNDASVNTDPATSASTVDVKPSPSAAEADFD\n",
      "IVTKGQVCEMTKEIADKTEKYNKCKQLLQDEKAKCNKYADELAKMELKWKEQVKIAENVK\n",
      "LELAEVQDNYKELKRSLENPAERKMEDGADGAFYPDEIQRPPVRVPSWGLEDNVVCSQPA\n",
      "RNFSRPDGLEDSEDSKEDENVPTAPDPPSQHLRGHGTGFCFDSSFDVHKKCPLCELMFPP\n",
      "NYDQSKFEEHVESHWKVCPMCSEQFPPDYDQQVFERHVQTHFDQNVLNFD\n",
      ">sp|Q86VP1-2|TAXB1_HUMAN Isoform 2 of Tax1-binding protein 1 OS=Homo sapiens (Human). OX=['9606']\n",
      "MTSFQEVPLQTSNFAHVIFQNVAKSYLPNAHLECHYTLTPYIHPHPKDWVGIFKVGWSTA\n",
      "RDYYTFLWSPMPEHYVEGSTVNCVLAFQGYYLPNDDGEFYQFCYVTHKGEIRGASTPFQF\n",
      "RASSPVEELLTMEDEGNSDMLVVTTKAGLLELKIEKTMKEKEELLKLIAVLEKETAQLRE\n",
      "QVGRMERELNHEKERCDQLQAEQKGLTEVTQSLKMENEEFKKRFSDATSKAHQLEEDIVS\n",
      "VTHKAIEKETELDSLKDKLKKAQHEREQLECQLKTEKDEKELYKVHLKNTEIENTKLMSE\n",
      "VQTLKNLDGNKESVITHFKEEIGRLQLCLAEKENLQRTFLLTTSSKEDTCFLKEQLRKAE\n",
      "EQVQATRQEVVFLAKELSDAVNVRDRTMADLHTARLENEKVKKQLADAVAELKLNAMKKD\n",
      "QDKTDTLEHELRREVEDLKLRLQMAADHYKEKFKECQRLQKQINKLSDQSANNNNVFTKK\n",
      "TGNQQKVNDASVNTDPATSASTVDVKPSPSAAEADFDIVTKGQVCEMTKEIADKTEKYNK\n",
      "CKQLLQDEKAKCNKYADELAKMELKWKEQVKIAENVKLELAEVQDNYKELKRSLENPAER\n",
      "KMEDGADGAFYPDEIQRPPVRVPSWGLEDNVVCSQPARNFSRPDGLEDSEDSKEDENVPT\n",
      "APDPPSQHLRGHGTGFCFDSSFDVHKKCPLCELMFPPNYDQSKFEEHVESHWKVCPMCSE\n",
      "QFPPDYDQQVFERHVQTHFDQNVLNFD\n",
      ">sp|O35426-2|XBP1_MOUSE Isoform 2 of X-box-binding protein 1 OS=Mus musculus (Mouse). OX=['10090']\n",
      "MVVVAAAPSAATAAPKVLLLSGQPASGGRALPLMVPGPRAAGSEASGTPQARKRQRLTHL\n",
      "SPEEKALRRKLKNRVAAQTARDRKKARMSELEQQVVDLEEENHKLQLENQLLREKTHGLV\n",
      "VENQELRTRLGMDTLDPDEVPEVEAKGSGVRLVAGSAESAAGAGPVVTSPEHLPMDSDTV\n",
      "ASSDSESDILLGILDKLDPVMFFKCPSPESASLEELPEVYPEGPSSLPASLSLSVGTSSA\n",
      "KLEAINELIRFDHVYTKPLVLEIPSETESQTNVVVKIEEAPLSSSEEDHPEFIVSVKKEP\n",
      "LEDDFIPELGISNLLSSSHCLRPPSCLLDAHSDCGYEGSPSPFSDMSSPLGTDHSWEDTF\n",
      "ANELFPQLISV\n",
      ">sp|P17861-2|XBP1_HUMAN Isoform 2 of X-box-binding protein 1 OS=Homo sapiens (Human). OX=['9606']\n",
      "MVVVAAAPNPADGTPKVLLLSGQPASAAGAPAGQALPLMVPAQRGASPEAASGGLPQARK\n",
      "RQRLTHLSPEEKALRRKLKNRVAAQTARDRKKARMSELEQQVVDLEEENQKLLLENQLLR\n",
      "EKTHGLVVENQELRQRLGMDALVAEEEAEAKGNEVRPVAGSAESAAGAGPVVTPPEHLPM\n",
      "DSGGIDSSDSESDILLGILDNLDPVMFFKCPSPEPASLEELPEVYPEGPSSLPASLSLSV\n",
      "GTSSAKLEAINELIRFDHIYTKPLVLEIPSETESQANVVVKIEEAPLSPSENDHPEFIVS\n",
      "VKEEPVEDDLVPELGISNLLSSSHCPKPSSCLLDAYSDCGYGGSLSPFSDMSSLLGVNHS\n",
      "WEDTFANELFPQLISV\n",
      ">sp|Q6P132-2|TXB1B_DANRE Isoform 2 of Tax1-binding protein 1 homolog B OS=Danio rerio (Zebrafish) (Brachydanio rerio). OX=['7955']\n",
      "MALFLEGTAASSAMETSNFAHVIFQNVGKSYLPHGALECHYTLTQFIKPHPKDWVGIFKV\n",
      "GWSTARDYYTFLWSPLPDNYTEGTAINRSVVFQGYYVPNDDGEFYQFCYVTHKGEIRGAS\n",
      "TPFQFRANSPTEEELLTMEDEGGSDILVVTTKASYLEQKMEQIQQEKKELLENLDLLQKE\n",
      "RDELIDEKNRLEKEYEQERESSAQLRKDVQELQLSAQSLQEEREEVKRRMEESTARLLQL\n",
      "EEDLIGVTQKGLQKETELDCLKDRVKKLNLEKEALEGQLKNEKDEKELYKIHLKNRELEN\n",
      "TKLSAELQMLKSVDVNKENTIAQLKDELARVKSCLAEKEKQHRQLLANSSPSGESKALRE\n",
      "QLRQKEEQLQATQQQANMLKAELRDSSNARDRSMAELYRIRVEAETLKKGQADARAECSR\n",
      "LEQQLEEMKSSTQQEAQCKESDVLAVAELQREVEDLRLRLQMAAEHYKDKYKECQKLQKQ\n",
      "VVKFNEQQGVKRSPGSDAAAGPLSASPEASAPGSPSTSDAVLDAIIHGRLKSSSKELDKN\n",
      "DKYRKCKQMLNEERERCSMITDELTKMEVKLREQMKTNESLRMQLAAEEDRYKSQVAEKG\n",
      "RELKELKDSLFVLTKEKEKLEGLQKSVNREEEQKDSNLDVQSVFLQYPMPYAQDDPSPLL\n",
      "VPQRPTDLLFGNPYSSTDSRDGADGEFSDDQMPRLPPVGPPSWDSNVVCIQPARNLSRPD\n",
      "GLEEPEEPQSTQNDDEPAAPEPAEFLNDGQMPFCFEPTGEQKRCPLCEVIFPPHYDQSKF\n",
      "EEHVESHWKICPMCSEQFPLDCDQQLFEKHVLTHFDSNVLNF\n",
      ">sp|Q66HA4-2|TAXB1_RAT Isoform 2 of Tax1-binding protein 1 homolog OS=Rattus norvegicus (Rat). OX=['10116']\n",
      "MTSFQEVPLQTSNFAHVIFQNVAKSYLPNAHLECHYTLTPYIHPHSKDWVGIFKVGWSTA\n",
      "RDYYTFLWSPMPEQYVEGSTVNCVLAFQGYYLPNDDGEFYQFCYVTHKGEIRGASTPFQF\n",
      "RAASPVEELLTMEDEGNSDMLVVTTKAGLLELKIEKTLKEKEELLKLVSVLEKETAQLRE\n",
      "QVGRMERELSHEKSRCEQLQAEQKGLLEVSQSLRVENEEFMKRYSDATSKAHQLEEDIVS\n",
      "VTHKAVEKETELDSLKDKLRKAQQEKEQLECQLKTEKDEKELYKVHLKNTEIENTKLVSE\n",
      "IQTLKNVDGNKESMITHFKEEIGKLQSCLADKENLHRALLLTTSNKEDTLLLKEQLRKAE\n",
      "EQVQATRQELIFLAKELSDAVNVRDKTMADLHTARLENERVKKQLADTLAELQLHAVKTD\n",
      "QEKTDTLEHELRREVEDLKLRLQMAADHYKEKFKECQRLQKQINKLSDQSASSNGVFTKR\n",
      "MGSQQKVNDASINTDPAASASAVDVKPAASCAAETDFDMSAKDHVCEVTKEMAEKVEKYN\n",
      "KCKQLLQDEKAKCNKYADELAQMELKWKEQVRIAENVKLELAELEDSYSVSSENVRLELA\n",
      "ELEDSYSELTKSLEDQKGRKMEGQSPQQVSRCLNTCSEQSGLLPTLPAAQPVLQYGNPYT\n",
      "AHETRDGADGAFYPDEIQRPPVRGPSWEDNVVCSQPARNLSRPDGLEDPEDSREDENVPI\n",
      "PPDPANQHLRGHGAGFCFDSSFDVHKKCPLCELMFPPNYDQIKFEEHVESHWKLPGEFFI\n",
      "EYPWATYAPHETLGPWRRLGKVLAVLSSDTQLWCEKPDISLGRQKQKILGMCWSESRQIS\n",
      "DLQVQ\n",
      ">sp|Q9UQ35-3|SRRM2_HUMAN Isoform 3 of Serine/arginine repetitive matrix protein 2 OS=Homo sapiens (Human). OX=['9606']\n",
      "MLLEKDVNPGGKEETPGQRPAVTETHQLAELNEKKNERLRAAFGISDSYVDGSSFDPQRR\n",
      "AREAKQPAPEPPKPYSLVRESSSSRSPTPKQKKKKKKKDRGRRSESSSPRRERKKSSKKK\n",
      "KHRSESESKKRKHRSPTPKSKRKSKDKKRKRSRSTTPAPKSRRAHRSTSADSASSSDTSR\n",
      "SRSRSAAAKTHTTALAGRSPSPASGRRGEGDAPFSEPGTTSTQRPSSPETATKQPSSPYE\n",
      "DKDKDKKEKSATRPSPSPERSSTGPEPPAPTPLLAERHGGSPQPLATTPLSQEPVNPSPQ\n",
      "LFMFLKGILVF\n",
      ">sp|Q9UQ35-2|SRRM2_HUMAN Isoform 2 of Serine/arginine repetitive matrix protein 2 OS=Homo sapiens (Human). OX=['9606']\n",
      "MYNGIGLPTPRGSGTNGYVQRNLSLVRGRRGERPDYKGEEELRRLEAALVKRPNPDILDH\n",
      "ERKRRVELRCLELEEMMEEQGYEEQQIQEKVATFRLMLLEKDVNPGGKEETPGQRPAVTE\n",
      "THQLAELNEKKNERLRAAFGISDSYVDGSSFDPQRRAREAKQPAPEPPKPYSLVRESSSS\n",
      "RSPTPKQKKKKKKKDRGRRSESSSPRRERKKSSKKKKHRSESESKKRKHRSPTPKSKRKS\n",
      "KDKKRKRSRSTTPAPKSRRAHRSTSADSASSSDTSRSRSRSAAAKTHTTALAGRSPSPAS\n",
      "GRRGEGDAPFSEPGTTSTQRPSSPETATKQPSSPYEDKDKDKKEKSATRPSPSPERSSTG\n",
      "PEPPAPTPLLAERHGGSPQPLATTPLSQEPVNPPSEASPTRDRSPPKSPEKLPQSSSSES\n",
      "SPPSPQPTKVSRHASSSPESPKPAPAPGSHREISSSPTSKNRSHGRAKRDKSHSHTPSRR\n",
      "MGRSRSPATAKRGRSRSRTPTKRGHSRSRSPQWRRSRSAQRWGRSRSPQRRGRSRSPQRP\n",
      "GWSRSRNTQRRGRSRSARRGRSHSRSPATRGRSRSRTPARRGRSRSRTPARRRSRSRTPT\n",
      "RRRSRSRTPARRGRSRSRTPARRRSRTRSPVRRRSRSRSPARRSGRSRSRTPARRGRSRS\n",
      "RTPARRGRSRSRTPARRSGRSRSRTPARRGRSRSRTPRRGRSRSRSLVRRGRSHSRTPQR\n",
      "RGRSGSSSERKNKSRTSQRRSRSNSSPEMKKSRISSRRSRSLSSPRSKAKSRLSLRRSLS\n",
      "GSSPCPKQKSQTPPRRSRSGSSQPKAKSRTPPRRSRSSSSPPPKQKSKTPSRQSHSSSSP\n",
      "HPKVKSGTPPRQGSITSPQANEQSVTPQRRSCFESSPDPELKSRTPSRHSCSGSSPPRVK\n",
      "SSTPPRQSPSRSSSPQPKVKAIISPRQRSHSGSSSPSPSRVTSRTTPRRSRSVSPCSNVE\n",
      "SRLLPRYSHSGSSSPDTKVKPETPPRQSHSGSISPYPKVKAQTPPGPSLSGSKSPCPQEK\n",
      "SKDSLVQSCPGSLSLCAGVKSSTPPGESYFGVSSLQLKGQSQTSPDHRSDTSSPEVRQSH\n",
      "SESPSLQSKSQTSPKGGRSRSSSPVTELASRSPIRQDRGEFSASPMLKSGMSPEQSRFQS\n",
      "DSSSYPTVDSNSLLGQSRLETAESKEKMALPPQEDATASPPRQKDKFSPFPVQDRPESSL\n",
      "VFKDTLRTPPRERSGAGSSPETKEQNSALPTSSQDEELMEVVEKSEEPAGQILSHLSSEL\n",
      "KEMSTSNFESSPEVEERPAVSLTLDQSQSQASLEAVEVPSMASSWGGPHFSPEHKELSNS\n",
      "PLRENSFGSPLEFRNSGPLGTEMNTGFSSEVKEDLNGPFLNQLETDPSLDMKEQSTRSSG\n",
      "HSSSELSPDAVEKAGMSSNQSISSPVLDAVPRTPSRERSSSASSPEMKDGLPRTPSRRSR\n",
      "SGSSPGLRDGSGTPSRHSLSGSSPGMKDIPRTPSRGRSECDSSPEPKALPQTPRPRSRSP\n",
      "SSPELNNKCLTPQRERSGSESSVDQKTVARTPLGQRSRSGSSQELDVKPSASPQERSESD\n",
      "SSPDSKAKTRTPLRQRSRSGSSPEVDSKSRLSPRRSRSGSSPEVKDKPRAAPRAQSGSDS\n",
      "SPEPKAPAPRALPRRSRSGSSSKGRGPSPEGSSSTESSPEHPPKSRTARRGSRSSPEPKT\n",
      "KSRTPPRRRSSRSSPELTRKARLSRRSRSASSSPETRSRTPPRHRRSPSVSSPEPAEKSR\n",
      "SSRRRRSASSPRTKTTSRRGRSPSPKPRGLQRSRSRSRREKTRTTRRRDRSGSSQSTSRR\n",
      "RQRSRSRSRVTRRRRGGSGYHSRSPARQESSRTSSRRRRGRSRTPPTSRKRSRSRTSPAP\n",
      "WKRSRSRASPATHRRSRSRTPLISRRRSRSRTSPVSRRRSRSRTSVTRRRSRSRASPVSR\n",
      "RRSRSRTPPVTRRRSRSRTPTTRRRSRSRTPPVTRRRSRSRTPPVTRRRSRSRTSPITRR\n",
      "RSRSRTSPVTRRRSRSRTSPVTRRRSRSRTSPVTRRRSRSRTPPAQDQPRSPVPSAFSDQ\n",
      "SRCLIAQTTPVAGSQSLSSGAVATTTSSAGDHNGMLSVPAPGVPHSDVGEPPASTGAQQP\n",
      "SALAALQPAKERRSSSSSSSSSSSSSSSSSSSSSSSSSGSSSSDSEGSSLPVQPEVALKR\n",
      "VPSPTPAPKEAVREGRPPEPTPAKRKRRSSSSSSSSSSSSSSSSSSSSSSSSSSSSSSSS\n",
      "SSSSSSSSSSPSPAKPGPQALPKPASPKKPPPGERRSRSPRKPIDSLRDSRSLSYSPVER\n",
      "RRPSPQPSPRDQQSSSSERGSRRGQRGDSRSPSHKRRRETPSPRPMRHRSSRSP\n",
      ">sp|Q13884-2|SNTB1_HUMAN Isoform 2 of Beta-1-syntrophin OS=Homo sapiens (Human). OX=['9606']\n",
      "MAVAAAAAAAGPAGAGGGRAQRSGLLEVLVRDRWHKVLVNLSEDALVLSSEEGAAAYNGI\n",
      "GTATNGSFCRGAGAGHPGAGGAQPPDSPAGVRTAFTDLPEQVPESISNQKRGVKVLKQEL\n",
      "GGLGISIKGGKENKMPILISKIFKGLAADQTQALYVGDAILSVNGADLRDATHDEAVQAL\n",
      "KRAGKEVLLEVKYMREATPYVKKGSPVSEIGWETPPPESPRLGGSTSDPPSSQSFSFHRD\n",
      "RKSIPLKMCYVTRSMALADPENRQLEIHSPDAKHTVILRSKDSATAQAWFSAIHSNVNDL\n",
      "LTRVIAEVREQLGKTGIAGSREIRHLGWLAEKVPGESKKQWKPALVVLTEKDLLIYDSMP\n",
      "RRKEAWFSPVHTYPLLATSPHP\n",
      ">sp|Q9NPB6-2|PAR6A_HUMAN Isoform 2 of Partitioning defective 6 homolog alpha OS=Homo sapiens (Human). OX=['9606']\n",
      "MARPQRTPARSPDSIVEVKSKFDAEFRRFALPRASVSGFQEFSRLLRAVHQIPGLDVLLG\n",
      "YTDAHGDLLPLTNDDSLHRALASGPPPLRLLVQKREADSSGLAFASNSLQRRKKGLLLRP\n",
      "VAPLRTRPPLLISLPQDFRQVSSVIDVDLLPETHRRVRLHKHGSDRPLGFYIRDGMSVRV\n",
      "APQGLERVPGIFISRLVRGGLAESTGLLAVSDEILEVNGIEVAGKTLDQVTDMMVANSHN\n",
      "LIVTVKPANQRNNVVRGASGRLTGPPSAGPGPAEPDSDDDSSDLVIENRQPPSSNGLSQG\n",
      "PPCWDLHPGCRHPGTRSSLPSLDDQEQASSGWGSRIRGDGSGFSL\n"
     ]
    }
   ],
   "source": [
    "for e in entries:\n",
    "    if 'Alternative splicing' in e.keywords:\n",
    "        for i in e.isoforms():\n",
    "            print(i)"
   ]
  },
  {
   "cell_type": "markdown",
   "metadata": {},
   "source": [
    "We would like to run a FASTA similarity search against Swiss-Prot for one of the sequences. Let's take the canonical sequence of the first entry in entries.\n",
    "\n",
    "Here we use the ebiwebservices module from prunito."
   ]
  },
  {
   "cell_type": "code",
   "execution_count": 11,
   "metadata": {},
   "outputs": [],
   "source": [
    "from prunito import ebiwebservices as ews"
   ]
  },
  {
   "cell_type": "code",
   "execution_count": 12,
   "metadata": {},
   "outputs": [
    {
     "name": "stdout",
     "output_type": "stream",
     "text": [
      ">sp|Q06507|ATF4_MOUSE Cyclic AMP-dependent transcription factor ATF-4 OS=Mus musculus (Mouse). OX=['10090']\n",
      "MTEMSFLNSEVLAGDLMSPFDQSGLGAEESLGLLDDYLEVAKHLKPHGFSSDKAGSSEWP\n",
      "AMDDGLASASDTGKEDAFSGTDWMLEKMDLKEFDFDALFRMDDLETMPDELLTTLDDTCD\n",
      "LFAPLVQETNKEPPQTVNPIGHLPESLIKVDQVAPFTFLQPFPCSPGVLSSTPEHSFSLE\n",
      "LGSEVDISEGDRKPDSAAYITLIPPCVKEEDTPSDNDSGICMSPESYLGSPQHSPSTSRA\n",
      "PPDNLPSPGGSRGSPRPKPYDPPGVSLTAKVKTEKLDKKLKKMEQNKTAATRYRQKKRAE\n",
      "QEALTGECKELEKKNEALKEKADSLAKEIQYLKDLIEEVRKARGKKRVP\n"
     ]
    }
   ],
   "source": [
    "first_entry = entries[0]\n",
    "print(first_entry.as_fasta())"
   ]
  },
  {
   "cell_type": "code",
   "execution_count": 13,
   "metadata": {},
   "outputs": [
    {
     "name": "stdout",
     "output_type": "stream",
     "text": [
      "No email address for EBI web service set.\n",
      "This is required for the services to work.\n",
      "Use set_email() to provide an email address.\n"
     ]
    }
   ],
   "source": [
    "# fasta_search() defaults to Swiss-Prot as target set\n",
    "similar = ews.fasta_search(first_entry.as_fasta())"
   ]
  },
  {
   "cell_type": "markdown",
   "metadata": {},
   "source": [
    "Aha, we get a message that EBI web services require an email address. "
   ]
  },
  {
   "cell_type": "code",
   "execution_count": 14,
   "metadata": {},
   "outputs": [],
   "source": [
    "ews.set_email('some@gmx.de')"
   ]
  },
  {
   "cell_type": "code",
   "execution_count": 15,
   "metadata": {},
   "outputs": [],
   "source": [
    "similar = ews.fasta_search(first_entry.as_fasta())"
   ]
  },
  {
   "cell_type": "code",
   "execution_count": 16,
   "metadata": {},
   "outputs": [
    {
     "name": "stdout",
     "output_type": "stream",
     "text": [
      "# /nfs/public/release/wp-jdispatcher/latest/appbin/linux-x86_64/fasta-36.3.7b/fasta36 -l /nfs/public/ro/es/data/idata/latest/fastacfg/fasta3db -L -T 8 -p -m \"F9 fasta-R20180501-155642-0060-16766253-p1m.m9\" @:1- +uniprotkb_swissprot+\n",
      "FASTA searches a protein or DNA sequence data bank\n",
      " version 36.3.7b Jun, 2015(preload9)\n",
      "Please cite:\n",
      " W.R. Pearson & D.J. Lipman PNAS (1988) 85:2444-2448\n",
      "\n",
      "Query: @\n",
      "  1>>>sp|Q06507|ATF4_MOUSE Cyclic AMP-dependent transcription factor ATF-4 OS=Mus musculus (Mouse). OX=['10090'] - 349 aa\n",
      "Library: UniProtKB/Swiss-Prot\n",
      "  199856860 residues in 557275 sequences\n",
      "\n",
      "Statistic\n"
     ]
    }
   ],
   "source": [
    "print(similar.text[:600])"
   ]
  },
  {
   "cell_type": "markdown",
   "metadata": {},
   "source": [
    "How about using InterPro's HMMER search instead of FASTA?"
   ]
  },
  {
   "cell_type": "code",
   "execution_count": 17,
   "metadata": {},
   "outputs": [],
   "source": [
    "from prunito import interpro"
   ]
  },
  {
   "cell_type": "code",
   "execution_count": 18,
   "metadata": {},
   "outputs": [],
   "source": [
    "ip_similar = interpro.search_phmmer(first_entry.as_fasta())"
   ]
  },
  {
   "cell_type": "code",
   "execution_count": 19,
   "metadata": {},
   "outputs": [
    {
     "name": "stdout",
     "output_type": "stream",
     "text": [
      "acc2\tacc\tdesc\tspecies\tkg\tevalue\n",
      "Q06507\tATF4_MOUSE\tCyclic AMP-dependent transcription factor ATF-4\tMus musculus\tEukaryota\t1.0e-232\t\n",
      "Q9ES19\tATF4_RAT\tCyclic AMP-dependent transcription factor ATF-4\tRattus norvegicus\tEukaryota\t2.6e-216\t\n",
      "P18848\tATF4_HUMAN\tCyclic AMP-dependent transcription factor ATF-4\tHomo sapiens\tEukaryota\t2.4e-195\t\n",
      "Q3ZCH6\tATF4_BOVIN\tCyclic AMP-dependent transcription factor ATF-4\tBos taurus\tEukaryota\t1.9e-169\t\n",
      "Q6NW59\tATF4_DANRE\tCyclic AMP-dependent transcription factor ATF-4\tDanio rerio\tEukaryota\t5.0e-34\t\n",
      "Q9Y2D1\tATF5_HUMAN\tCyclic AMP-dependent transcription factor ATF-5\tHomo sapiens\tEukaryota\t6.3e-20\t\n",
      "Q6P788\tATF5_RAT\tCyclic AMP-dependent transcription factor ATF-5\tRattus norvegicus\tEukaryota\t5.8e-18\t\n",
      "Q9GPH3\tATFC_BOMMO\tActivating transcription factor of chaperone\tBombyx mori\tEukaryota\t2.4e-16\t\n",
      "O70191\tATF5_MOUSE\tCyclic AMP-dependent transcription factor ATF-5\tMus musculus\tEukaryota\t3.5e-13\t\n",
      "Q8TFF3\tHAC1_HYPJE\tTranscriptional activator hac1\tHypocrea jecorina (strain QM6a)\tEukaryota\t5.4e-05\t\n",
      "\n"
     ]
    }
   ],
   "source": [
    "print(ip_similar.summary())"
   ]
  },
  {
   "cell_type": "code",
   "execution_count": 20,
   "metadata": {},
   "outputs": [],
   "source": [
    "df_hmmer = ip_similar.as_dataframe()"
   ]
  },
  {
   "cell_type": "code",
   "execution_count": 21,
   "metadata": {},
   "outputs": [
    {
     "data": {
      "text/html": [
       "<div>\n",
       "<style scoped>\n",
       "    .dataframe tbody tr th:only-of-type {\n",
       "        vertical-align: middle;\n",
       "    }\n",
       "\n",
       "    .dataframe tbody tr th {\n",
       "        vertical-align: top;\n",
       "    }\n",
       "\n",
       "    .dataframe thead th {\n",
       "        text-align: right;\n",
       "    }\n",
       "</style>\n",
       "<table border=\"1\" class=\"dataframe\">\n",
       "  <thead>\n",
       "    <tr style=\"text-align: right;\">\n",
       "      <th></th>\n",
       "      <th>acc2</th>\n",
       "      <th>acc</th>\n",
       "      <th>desc</th>\n",
       "      <th>species</th>\n",
       "      <th>kg</th>\n",
       "      <th>evalue</th>\n",
       "    </tr>\n",
       "  </thead>\n",
       "  <tbody>\n",
       "    <tr>\n",
       "      <th>Q06507</th>\n",
       "      <td>ATF4_MOUSE</td>\n",
       "      <td>Cyclic AMP-dependent transcription factor ATF-4</td>\n",
       "      <td>Mus musculus</td>\n",
       "      <td>Eukaryota</td>\n",
       "      <td>1.000000e-232</td>\n",
       "      <td>NaN</td>\n",
       "    </tr>\n",
       "    <tr>\n",
       "      <th>Q9ES19</th>\n",
       "      <td>ATF4_RAT</td>\n",
       "      <td>Cyclic AMP-dependent transcription factor ATF-4</td>\n",
       "      <td>Rattus norvegicus</td>\n",
       "      <td>Eukaryota</td>\n",
       "      <td>2.600000e-216</td>\n",
       "      <td>NaN</td>\n",
       "    </tr>\n",
       "    <tr>\n",
       "      <th>P18848</th>\n",
       "      <td>ATF4_HUMAN</td>\n",
       "      <td>Cyclic AMP-dependent transcription factor ATF-4</td>\n",
       "      <td>Homo sapiens</td>\n",
       "      <td>Eukaryota</td>\n",
       "      <td>2.400000e-195</td>\n",
       "      <td>NaN</td>\n",
       "    </tr>\n",
       "    <tr>\n",
       "      <th>Q3ZCH6</th>\n",
       "      <td>ATF4_BOVIN</td>\n",
       "      <td>Cyclic AMP-dependent transcription factor ATF-4</td>\n",
       "      <td>Bos taurus</td>\n",
       "      <td>Eukaryota</td>\n",
       "      <td>1.900000e-169</td>\n",
       "      <td>NaN</td>\n",
       "    </tr>\n",
       "    <tr>\n",
       "      <th>Q6NW59</th>\n",
       "      <td>ATF4_DANRE</td>\n",
       "      <td>Cyclic AMP-dependent transcription factor ATF-4</td>\n",
       "      <td>Danio rerio</td>\n",
       "      <td>Eukaryota</td>\n",
       "      <td>5.000000e-34</td>\n",
       "      <td>NaN</td>\n",
       "    </tr>\n",
       "    <tr>\n",
       "      <th>Q9Y2D1</th>\n",
       "      <td>ATF5_HUMAN</td>\n",
       "      <td>Cyclic AMP-dependent transcription factor ATF-5</td>\n",
       "      <td>Homo sapiens</td>\n",
       "      <td>Eukaryota</td>\n",
       "      <td>6.300000e-20</td>\n",
       "      <td>NaN</td>\n",
       "    </tr>\n",
       "    <tr>\n",
       "      <th>Q6P788</th>\n",
       "      <td>ATF5_RAT</td>\n",
       "      <td>Cyclic AMP-dependent transcription factor ATF-5</td>\n",
       "      <td>Rattus norvegicus</td>\n",
       "      <td>Eukaryota</td>\n",
       "      <td>5.800000e-18</td>\n",
       "      <td>NaN</td>\n",
       "    </tr>\n",
       "    <tr>\n",
       "      <th>Q9GPH3</th>\n",
       "      <td>ATFC_BOMMO</td>\n",
       "      <td>Activating transcription factor of chaperone</td>\n",
       "      <td>Bombyx mori</td>\n",
       "      <td>Eukaryota</td>\n",
       "      <td>2.400000e-16</td>\n",
       "      <td>NaN</td>\n",
       "    </tr>\n",
       "    <tr>\n",
       "      <th>O70191</th>\n",
       "      <td>ATF5_MOUSE</td>\n",
       "      <td>Cyclic AMP-dependent transcription factor ATF-5</td>\n",
       "      <td>Mus musculus</td>\n",
       "      <td>Eukaryota</td>\n",
       "      <td>3.500000e-13</td>\n",
       "      <td>NaN</td>\n",
       "    </tr>\n",
       "    <tr>\n",
       "      <th>Q8TFF3</th>\n",
       "      <td>HAC1_HYPJE</td>\n",
       "      <td>Transcriptional activator hac1</td>\n",
       "      <td>Hypocrea jecorina (strain QM6a)</td>\n",
       "      <td>Eukaryota</td>\n",
       "      <td>5.400000e-05</td>\n",
       "      <td>NaN</td>\n",
       "    </tr>\n",
       "  </tbody>\n",
       "</table>\n",
       "</div>"
      ],
      "text/plain": [
       "              acc2                                              acc  \\\n",
       "Q06507  ATF4_MOUSE  Cyclic AMP-dependent transcription factor ATF-4   \n",
       "Q9ES19    ATF4_RAT  Cyclic AMP-dependent transcription factor ATF-4   \n",
       "P18848  ATF4_HUMAN  Cyclic AMP-dependent transcription factor ATF-4   \n",
       "Q3ZCH6  ATF4_BOVIN  Cyclic AMP-dependent transcription factor ATF-4   \n",
       "Q6NW59  ATF4_DANRE  Cyclic AMP-dependent transcription factor ATF-4   \n",
       "Q9Y2D1  ATF5_HUMAN  Cyclic AMP-dependent transcription factor ATF-5   \n",
       "Q6P788    ATF5_RAT  Cyclic AMP-dependent transcription factor ATF-5   \n",
       "Q9GPH3  ATFC_BOMMO     Activating transcription factor of chaperone   \n",
       "O70191  ATF5_MOUSE  Cyclic AMP-dependent transcription factor ATF-5   \n",
       "Q8TFF3  HAC1_HYPJE                   Transcriptional activator hac1   \n",
       "\n",
       "                                   desc    species             kg  evalue  \n",
       "Q06507                     Mus musculus  Eukaryota  1.000000e-232     NaN  \n",
       "Q9ES19                Rattus norvegicus  Eukaryota  2.600000e-216     NaN  \n",
       "P18848                     Homo sapiens  Eukaryota  2.400000e-195     NaN  \n",
       "Q3ZCH6                       Bos taurus  Eukaryota  1.900000e-169     NaN  \n",
       "Q6NW59                      Danio rerio  Eukaryota   5.000000e-34     NaN  \n",
       "Q9Y2D1                     Homo sapiens  Eukaryota   6.300000e-20     NaN  \n",
       "Q6P788                Rattus norvegicus  Eukaryota   5.800000e-18     NaN  \n",
       "Q9GPH3                      Bombyx mori  Eukaryota   2.400000e-16     NaN  \n",
       "O70191                     Mus musculus  Eukaryota   3.500000e-13     NaN  \n",
       "Q8TFF3  Hypocrea jecorina (strain QM6a)  Eukaryota   5.400000e-05     NaN  "
      ]
     },
     "execution_count": 21,
     "metadata": {},
     "output_type": "execute_result"
    }
   ],
   "source": [
    "df_hmmer"
   ]
  },
  {
   "cell_type": "code",
   "execution_count": 36,
   "metadata": {},
   "outputs": [],
   "source": [
    "vn = interpro.draw_signature_overlaps(['MF_02067', 'PTHR38341', 'PIRSF015647', 'PF01950'], mode='ipython')"
   ]
  },
  {
   "cell_type": "code",
   "execution_count": 35,
   "metadata": {},
   "outputs": [
    {
     "data": {
      "image/svg+xml": [
       "<svg height=\"503.07043\" id=\"svg2\" inkscape:version=\"0.92.0 r15299\" sodipodi:docname=\"4_set.svg\" version=\"1.1\" width=\"677.08765\" xmlns=\"http://www.w3.org/2000/svg\" xmlns:cc=\"http://creativecommons.org/ns#\" xmlns:dc=\"http://purl.org/dc/elements/1.1/\" xmlns:inkscape=\"http://www.inkscape.org/namespaces/inkscape\" xmlns:rdf=\"http://www.w3.org/1999/02/22-rdf-syntax-ns#\" xmlns:sodipodi=\"http://sodipodi.sourceforge.net/DTD/sodipodi-0.dtd\" xmlns:svg=\"http://www.w3.org/2000/svg\">\n",
       "  <defs id=\"defs4\"/>\n",
       "  <sodipodi:namedview bordercolor=\"#666666\" borderopacity=\"1.0\" fit-margin-bottom=\"35\" fit-margin-left=\"20\" fit-margin-right=\"20\" fit-margin-top=\"35\" id=\"base\" inkscape:current-layer=\"layer8\" inkscape:cx=\"412.16645\" inkscape:cy=\"208.25143\" inkscape:document-units=\"px\" inkscape:guide-bbox=\"true\" inkscape:pageopacity=\"0.0\" inkscape:pageshadow=\"2\" inkscape:showpageshadow=\"true\" inkscape:window-height=\"1017\" inkscape:window-maximized=\"1\" inkscape:window-width=\"1920\" inkscape:window-x=\"-8\" inkscape:window-y=\"-8\" inkscape:zoom=\"1.4\" pagecolor=\"#ffffff\" showgrid=\"false\" showguides=\"false\">\n",
       "    <sodipodi:guide id=\"guide3781\" inkscape:locked=\"false\" orientation=\"1,0\" position=\"-331.11998,194.96663\"/>\n",
       "    <sodipodi:guide id=\"guide3783\" inkscape:locked=\"false\" orientation=\"1,0\" position=\"331.5401,194.96663\"/>\n",
       "    <sodipodi:guide id=\"guide3785\" inkscape:locked=\"false\" orientation=\"0,1\" position=\"186.07812,-198.85817\"/>\n",
       "    <sodipodi:guide id=\"guide3787\" inkscape:locked=\"false\" orientation=\"0,1\" position=\"186.07812,-198.85817\"/>\n",
       "    <sodipodi:guide id=\"guide3789\" inkscape:locked=\"false\" orientation=\"1,0\" position=\"273.99293,214.90642\"/>\n",
       "    <sodipodi:guide id=\"guide3791\" inkscape:locked=\"false\" orientation=\"1,0\" position=\"976.96027,135.16561\"/>\n",
       "    <sodipodi:guide id=\"guide3793\" inkscape:locked=\"false\" orientation=\"0,1\" position=\"331.5401,250.45769\"/>\n",
       "    <sodipodi:guide id=\"guide3795\" inkscape:locked=\"false\" orientation=\"0,1\" position=\"955.41029,-198.85817\"/>\n",
       "    <sodipodi:guide id=\"guide3799\" inkscape:locked=\"false\" orientation=\"1,0\" position=\"1007.6689,-1.137614\"/>\n",
       "    <sodipodi:guide id=\"guide3801\" inkscape:locked=\"false\" orientation=\"1,0\" position=\"1054.0012,-28.075014\"/>\n",
       "    <sodipodi:guide id=\"guide3803\" inkscape:locked=\"false\" orientation=\"0,1\" position=\"1007.6689,-164.37829\"/>\n",
       "    <sodipodi:guide id=\"guide3900\" inkscape:locked=\"false\" orientation=\"1,0\" position=\"-358.05738,219.2103\"/>\n",
       "    <sodipodi:guide id=\"guide3902\" inkscape:locked=\"false\" orientation=\"1,0\" position=\"388.27863,219.85879\"/>\n",
       "    <sodipodi:guide id=\"guide3904\" inkscape:locked=\"false\" orientation=\"0,1\" position=\"197.04054,307.47785\"/>\n",
       "    <sodipodi:guide id=\"guide3906\" inkscape:locked=\"false\" orientation=\"0,1\" position=\"202.37388,194.33499\"/>\n",
       "    <sodipodi:guide id=\"guide3908\" inkscape:locked=\"false\" orientation=\"1,0\" position=\"230.9453,323.85879\"/>\n",
       "    <sodipodi:guide id=\"guide3910\" inkscape:locked=\"false\" orientation=\"1,0\" position=\"429.04054,307.47785\"/>\n",
       "    <sodipodi:guide id=\"guide3912\" inkscape:locked=\"false\" orientation=\"0,1\" position=\"331.5401,349.00165\"/>\n",
       "    <sodipodi:guide id=\"guide3914\" inkscape:locked=\"false\" orientation=\"0,1\" position=\"331.5401,156.23975\"/>\n",
       "  </sodipodi:namedview>\n",
       "  <metadata id=\"metadata7\">\n",
       "    <rdf:RDF>\n",
       "      <cc:Work rdf:about=\"\">\n",
       "        <dc:format>image/svg+xml</dc:format>\n",
       "        <dc:type rdf:resource=\"http://purl.org/dc/dcmitype/StillImage\"/>\n",
       "        <dc:title/>\n",
       "      </cc:Work>\n",
       "    </rdf:RDF>\n",
       "  </metadata>\n",
       "  <g id=\"layer1\" inkscape:groupmode=\"layer\" inkscape:label=\"2-set\" style=\"display:inline\" transform=\"translate(-277.24517,-501.40339)\">\n",
       "    <rect height=\"212.088\" id=\"rect2985\" style=\"opacity:0.4;fill:#e41a1c;fill-opacity:1;stroke:#000000;stroke-width:0.81655955;stroke-opacity:1\" width=\"633.60443\" x=\"298.98679\" y=\"754.64423\"/>\n",
       "    <rect height=\"427.57675\" id=\"rect3755\" style=\"opacity:0.4;fill:#377eb8;fill-opacity:1;stroke:#000000;stroke-width:0.82688004;stroke-linecap:round;stroke-linejoin:miter;stroke-miterlimit:4;stroke-dasharray:none;stroke-opacity:1\" width=\"322.41306\" x=\"610.17285\" y=\"539.15015\"/>\n",
       "  </g>\n",
       "  <g id=\"layer2\" inkscape:groupmode=\"layer\" inkscape:label=\"2-set-labels\" style=\"display:none\">\n",
       "    <text id=\"text3054\" style=\"font-style:normal;font-weight:normal;font-size:42.66666794px;line-height:125%;font-family:Sans;letter-spacing:0px;word-spacing:0px;fill:#000000;fill-opacity:1;stroke:none;stroke-width:1.06666672\" x=\"26.66667\" xml:space=\"preserve\" y=\"458.87997\"><tspan id=\"tspan3056\" sodipodi:role=\"line\" style=\"font-size:8.53333378px;stroke-width:1.06666672\" x=\"26.66667\" y=\"458.87997\">10</tspan></text>\n",
       "    <text id=\"text3058\" style=\"font-style:normal;font-weight:normal;font-size:42.66666794px;line-height:125%;font-family:Sans;letter-spacing:0px;word-spacing:0px;fill:#000000;fill-opacity:1;stroke:none;stroke-width:1.06666672\" x=\"617.14282\" xml:space=\"preserve\" y=\"52.784733\"><tspan id=\"tspan3060\" sodipodi:role=\"line\" style=\"font-size:8.53333378px;stroke-width:1.06666672\" x=\"617.14282\" y=\"52.784733\">1</tspan></text>\n",
       "    <text id=\"text3062\" style=\"font-style:normal;font-weight:normal;font-size:42.66666794px;line-height:125%;font-family:Sans;letter-spacing:0px;word-spacing:0px;fill:#000000;fill-opacity:1;stroke:none;stroke-width:1.06666672\" x=\"620.95239\" xml:space=\"preserve\" y=\"457.35617\"><tspan id=\"tspan3064\" sodipodi:role=\"line\" style=\"font-size:8.53333378px;stroke-width:1.06666672\" x=\"620.95239\" y=\"457.35617\">11</tspan></text>\n",
       "    <text id=\"text3116\" style=\"font-style:normal;font-weight:normal;font-size:42.66666794px;line-height:125%;font-family:Sans;letter-spacing:0px;word-spacing:0px;fill:#000000;fill-opacity:1;stroke:none;stroke-width:1.06666672\" x=\"30.476191\" xml:space=\"preserve\" y=\"240.2133\"><tspan id=\"tspan3118\" sodipodi:role=\"line\" style=\"font-size:21.33333397px;stroke-width:1.06666672\" x=\"30.476191\" y=\"240.2133\">MF_02067</tspan></text>\n",
       "    <text id=\"text3120\" style=\"font-style:normal;font-weight:normal;font-size:42.66666794px;line-height:125%;font-family:Sans;letter-spacing:0px;word-spacing:0px;fill:#000000;fill-opacity:1;stroke:none;stroke-width:1.06666672\" x=\"270.4762\" xml:space=\"preserve\" y=\"59.641869\"><tspan id=\"tspan3122\" sodipodi:role=\"line\" style=\"font-size:21.33333397px;stroke-width:1.06666672\" x=\"270.4762\" y=\"59.641869\">PTHR38341</tspan></text>\n",
       "  </g>\n",
       "  <g id=\"layer3\" inkscape:groupmode=\"layer\" inkscape:label=\"3-set\" style=\"display:inline\" transform=\"translate(-277.24517,-172.58451)\">\n",
       "    <path d=\"M 208.96337,183.80998 141.06732,235.90845 56.218383,224.73787 4.1199123,156.84182 15.290487,71.992881 83.186538,19.89441 l 84.848942,11.170575 52.09847,67.89605 z\" id=\"path3898\" inkscape:flatsided=\"true\" inkscape:randomized=\"0\" inkscape:rounded=\"0\" sodipodi:arg1=\"0.52359878\" sodipodi:arg2=\"0.91629786\" sodipodi:cx=\"112.12693\" sodipodi:cy=\"127.90143\" sodipodi:r1=\"111.81709\" sodipodi:r2=\"103.30552\" sodipodi:sides=\"8\" sodipodi:type=\"star\" style=\"opacity:0.45;fill:#4daf4a;fill-opacity:1;stroke:#000000;stroke-width:1;stroke-miterlimit:4;stroke-dasharray:none;stroke-opacity:1\" transform=\"matrix(1.0515685,-0.13497884,0.13497884,1.0515685,474.97822,305.58465)\"/>\n",
       "  </g>\n",
       "  <g id=\"layer7\" inkscape:groupmode=\"layer\" inkscape:label=\"3-set-labels\" style=\"display:none\">\n",
       "    <text id=\"text3054-1\" style=\"font-style:normal;font-weight:normal;font-size:42.66666794px;line-height:125%;font-family:Sans;letter-spacing:0px;word-spacing:0px;display:inline;fill:#000000;fill-opacity:1;stroke:none;stroke-width:1.06666672\" x=\"28.023502\" xml:space=\"preserve\" y=\"456.89783\"><tspan id=\"tspan3056-7\" sodipodi:role=\"line\" style=\"font-size:8.53333378px;stroke-width:1.06666672\" x=\"28.023502\" y=\"456.89783\">100</tspan></text>\n",
       "    <text id=\"text3058-4\" style=\"font-style:normal;font-weight:normal;font-size:42.66666794px;line-height:125%;font-family:Sans;letter-spacing:0px;word-spacing:0px;display:inline;fill:#000000;fill-opacity:1;stroke:none;stroke-width:1.06666672\" x=\"618.49969\" xml:space=\"preserve\" y=\"50.802578\"><tspan id=\"tspan3060-0\" sodipodi:role=\"line\" style=\"font-size:8.53333378px;stroke-width:1.06666672\" x=\"618.49969\" y=\"50.802578\">10</tspan></text>\n",
       "    <text id=\"text3062-9\" style=\"font-style:normal;font-weight:normal;font-size:42.66666794px;line-height:125%;font-family:Sans;letter-spacing:0px;word-spacing:0px;display:inline;fill:#000000;fill-opacity:1;stroke:none;stroke-width:1.06666672\" x=\"622.30927\" xml:space=\"preserve\" y=\"455.37402\"><tspan id=\"tspan3064-4\" sodipodi:role=\"line\" style=\"font-size:8.53333378px;stroke-width:1.06666672\" x=\"622.30927\" y=\"455.37402\">110</tspan></text>\n",
       "    <text id=\"text3100\" style=\"font-style:normal;font-weight:normal;font-size:42.66666794px;line-height:125%;font-family:Sans;letter-spacing:0px;word-spacing:0px;display:inline;fill:#000000;fill-opacity:1;stroke:none;stroke-width:1.06666672\" x=\"271.07114\" xml:space=\"preserve\" y=\"210.0407\"><tspan id=\"tspan3102\" sodipodi:role=\"line\" style=\"font-size:8.53333378px;stroke-width:1.06666672\" x=\"271.07114\" y=\"210.0407\">1</tspan></text>\n",
       "    <text id=\"text3104\" style=\"font-style:normal;font-weight:normal;font-size:42.66666794px;line-height:125%;font-family:Sans;letter-spacing:0px;word-spacing:0px;display:inline;fill:#000000;fill-opacity:1;stroke:none;stroke-width:1.06666672\" x=\"271.07114\" xml:space=\"preserve\" y=\"293.24069\"><tspan id=\"tspan3106\" sodipodi:role=\"line\" style=\"font-size:8.53333378px;stroke-width:1.06666672\" x=\"271.07114\" y=\"293.24069\">101</tspan></text>\n",
       "    <text id=\"text3108\" style=\"font-style:normal;font-weight:normal;font-size:42.66666794px;line-height:125%;font-family:Sans;letter-spacing:0px;word-spacing:0px;display:inline;fill:#000000;fill-opacity:1;stroke:none;stroke-width:1.06666672\" x=\"364.93784\" xml:space=\"preserve\" y=\"293.24069\"><tspan id=\"tspan3110\" sodipodi:role=\"line\" style=\"font-size:8.53333378px;stroke-width:1.06666672\" x=\"364.93784\" y=\"293.24069\">111</tspan></text>\n",
       "    <text id=\"text3112\" style=\"font-style:normal;font-weight:normal;font-size:42.66666794px;line-height:125%;font-family:Sans;letter-spacing:0px;word-spacing:0px;display:inline;fill:#000000;fill-opacity:1;stroke:none;stroke-width:1.06666672\" x=\"364.93784\" xml:space=\"preserve\" y=\"207.90736\"><tspan id=\"tspan3114\" sodipodi:role=\"line\" style=\"font-size:8.53333378px;stroke-width:1.06666672\" x=\"364.93784\" y=\"207.90736\">11</tspan></text>\n",
       "    <text id=\"text3116-8\" style=\"font-style:normal;font-weight:normal;font-size:42.66666794px;line-height:125%;font-family:Sans;letter-spacing:0px;word-spacing:0px;display:inline;fill:#000000;fill-opacity:1;stroke:none;stroke-width:1.06666672\" x=\"32.523033\" xml:space=\"preserve\" y=\"239.25795\"><tspan id=\"tspan3118-8\" sodipodi:role=\"line\" style=\"font-size:21.33333397px;stroke-width:1.06666672\" x=\"32.523033\" y=\"239.25795\">MF_02067</tspan></text>\n",
       "    <text id=\"text3120-2\" style=\"font-style:normal;font-weight:normal;font-size:42.66666794px;line-height:125%;font-family:Sans;letter-spacing:0px;word-spacing:0px;display:inline;fill:#000000;fill-opacity:1;stroke:none;stroke-width:1.06666672\" x=\"272.52304\" xml:space=\"preserve\" y=\"58.686527\"><tspan id=\"tspan3122-4\" sodipodi:role=\"line\" style=\"font-size:21.33333397px;stroke-width:1.06666672\" x=\"272.52304\" y=\"58.686527\">PTHR38341</tspan></text>\n",
       "    <text id=\"text3151\" style=\"font-style:normal;font-weight:normal;font-size:42.66666794px;line-height:125%;font-family:Sans;letter-spacing:0px;word-spacing:0px;display:inline;fill:#000000;fill-opacity:1;stroke:none;stroke-width:1.06666672\" x=\"189.4754\" xml:space=\"preserve\" y=\"170.68652\"><tspan id=\"tspan3153\" sodipodi:role=\"line\" style=\"font-size:21.33333397px;stroke-width:1.06666672\" x=\"189.4754\" y=\"170.68652\">PIRSF015647</tspan></text>\n",
       "  </g>\n",
       "  <g id=\"layer4\" inkscape:groupmode=\"layer\" inkscape:label=\"4-set\" style=\"display:inline\" transform=\"translate(-277.24517,-172.58451)\">\n",
       "    <path d=\"m 328.40905,297.50211 1.21905,251.00614 139.43446,-0.20835 95.08572,-78.42009 h 91.42856 l 99.35239,78.47308 143.92972,0.15536 -0.60952,-251.23131 -143.3202,0.8998 -99.35239,81.18877 h -91.42856 l -95.08572,-81.01499 z\" id=\"path3767\" inkscape:connector-curvature=\"0\" sodipodi:nodetypes=\"ccccccccccccc\" style=\"display:inline;opacity:0.45;fill:#984ea3;fill-opacity:1;stroke:#000000;stroke-width:1.04532552px;stroke-linecap:butt;stroke-linejoin:miter;stroke-opacity:1\"/>\n",
       "  </g>\n",
       "  <g id=\"layer8\" inkscape:groupmode=\"layer\" inkscape:label=\"4-set-labels\" style=\"display:inline\">\n",
       "    <text id=\"text3054-1-1\" style=\"font-style:normal;font-weight:normal;font-size:42.66666794px;line-height:125%;font-family:Sans;letter-spacing:0px;word-spacing:0px;display:inline;fill:#000000;fill-opacity:1;stroke:none;stroke-width:1.06666672\" x=\"168.04851\" xml:space=\"preserve\" y=\"419.66284\"><tspan id=\"tspan3056-7-7\" sodipodi:role=\"line\" style=\"font-size:8.53333378px;stroke-width:1.06666672\" x=\"168.04851\" y=\"419.66284\">0</tspan></text>\n",
       "    <text id=\"text3058-4-1\" style=\"font-style:normal;font-weight:normal;font-size:42.66666794px;line-height:125%;font-family:Sans;letter-spacing:0px;word-spacing:0px;display:inline;fill:#000000;fill-opacity:1;stroke:none;stroke-width:1.06666672\" x=\"483.52469\" xml:space=\"preserve\" y=\"86.424744\"><tspan id=\"tspan3060-0-1\" sodipodi:role=\"line\" style=\"font-size:8.53333378px;stroke-width:1.06666672\" x=\"483.52469\" y=\"86.424744\">0</tspan></text>\n",
       "    <text id=\"text3062-9-5\" style=\"font-style:normal;font-weight:normal;font-size:42.66666794px;line-height:125%;font-family:Sans;letter-spacing:0px;word-spacing:0px;display:inline;fill:#000000;fill-opacity:1;stroke:none;stroke-width:1.06666672\" x=\"498.04855\" xml:space=\"preserve\" y=\"413.13904\"><tspan id=\"tspan3064-4-2\" sodipodi:role=\"line\" style=\"font-size:8.53333378px;stroke-width:1.06666672\" x=\"498.04855\" y=\"413.13904\">0</tspan></text>\n",
       "    <text id=\"text3100-7\" style=\"font-style:normal;font-weight:normal;font-size:42.66666794px;line-height:125%;font-family:Sans;letter-spacing:0px;word-spacing:0px;display:inline;fill:#000000;fill-opacity:1;stroke:none;stroke-width:1.06666672\" x=\"299.09613\" xml:space=\"preserve\" y=\"179.90097\"><tspan id=\"tspan3102-6\" sodipodi:role=\"line\" style=\"font-size:8.53333378px;stroke-width:1.06666672\" x=\"299.09613\" y=\"179.90097\">0</tspan></text>\n",
       "    <text id=\"text3104-1\" style=\"font-style:normal;font-weight:normal;font-size:42.66666794px;line-height:125%;font-family:Sans;letter-spacing:0px;word-spacing:0px;display:inline;fill:#000000;fill-opacity:1;stroke:none;stroke-width:1.06666672\" x=\"297.09613\" xml:space=\"preserve\" y=\"330.24377\"><tspan id=\"tspan3106-4\" sodipodi:role=\"line\" style=\"font-size:8.53333378px;stroke-width:1.06666672\" x=\"297.09613\" y=\"330.24377\">0</tspan></text>\n",
       "    <text id=\"text3108-2\" style=\"font-style:normal;font-weight:normal;font-size:42.66666794px;line-height:125%;font-family:Sans;letter-spacing:0px;word-spacing:0px;display:inline;fill:#000000;fill-opacity:1;stroke:none;stroke-width:1.06666672\" x=\"362.81995\" xml:space=\"preserve\" y=\"331.57712\"><tspan id=\"tspan3110-3\" sodipodi:role=\"line\" style=\"font-size:8.53333378px;stroke-width:1.06666672\" x=\"362.81995\" y=\"331.57712\">0</tspan></text>\n",
       "    <text id=\"text3112-2\" style=\"font-style:normal;font-weight:normal;font-size:42.66666794px;line-height:125%;font-family:Sans;letter-spacing:0px;word-spacing:0px;display:inline;fill:#000000;fill-opacity:1;stroke:none;stroke-width:1.06666672\" x=\"360.01044\" xml:space=\"preserve\" y=\"179.29144\"><tspan id=\"tspan3114-2\" sodipodi:role=\"line\" style=\"font-size:8.53333378px;stroke-width:1.06666672\" x=\"360.01044\" y=\"179.29144\">0</tspan></text>\n",
       "    <text id=\"text3116-8-1\" style=\"font-style:normal;font-weight:normal;font-size:42.66666794px;line-height:125%;font-family:Sans;letter-spacing:0px;word-spacing:0px;display:inline;fill:#000000;fill-opacity:1;stroke:none;stroke-width:1.06666672\" x=\"25.786127\" xml:space=\"preserve\" y=\"455.1658\"><tspan id=\"tspan3118-8-6\" sodipodi:role=\"line\" style=\"font-size:21.33333397px;stroke-width:1.06666672\" x=\"25.786127\" y=\"455.1658\">MF_02067</tspan></text>\n",
       "    <text id=\"text3120-2-8\" style=\"font-style:normal;font-weight:normal;font-size:42.66666794px;line-height:125%;font-family:Sans;letter-spacing:0px;word-spacing:0px;display:inline;fill:#000000;fill-opacity:1;stroke:none;stroke-width:1.06666672\" x=\"340.78613\" xml:space=\"preserve\" y=\"61.642021\"><tspan id=\"tspan3122-4-5\" sodipodi:role=\"line\" style=\"font-size:21.33333397px;stroke-width:1.06666672\" x=\"340.78613\" y=\"61.642021\">PTHR38341</tspan></text>\n",
       "    <text id=\"text3151-7\" style=\"font-style:normal;font-weight:normal;font-size:42.66666794px;line-height:125%;font-family:Sans;letter-spacing:0px;word-spacing:0px;display:inline;fill:#000000;fill-opacity:1;stroke:none;stroke-width:1.06666672\" x=\"259.40515\" xml:space=\"preserve\" y=\"159.0706\"><tspan id=\"tspan3153-6\" sodipodi:role=\"line\" style=\"font-size:21.33333397px;stroke-width:1.06666672\" x=\"259.40515\" y=\"159.0706\">PIRSF015647</tspan></text>\n",
       "    <text id=\"text3252\" style=\"font-style:normal;font-weight:normal;font-size:42.66666794px;line-height:125%;font-family:Sans;letter-spacing:0px;word-spacing:0px;display:inline;fill:#000000;fill-opacity:1;stroke:none;stroke-width:1.06666672\" x=\"56.548031\" xml:space=\"preserve\" y=\"145.07057\"><tspan id=\"tspan3254\" sodipodi:role=\"line\" style=\"font-size:21.33333397px;stroke-width:1.06666672\" x=\"56.548031\" y=\"145.07057\">PF01950</tspan></text>\n",
       "    <text id=\"text3260\" style=\"font-style:normal;font-weight:normal;font-size:42.66666794px;line-height:125%;font-family:Sans;letter-spacing:0px;word-spacing:0px;display:inline;fill:#000000;fill-opacity:1;stroke:none;stroke-width:1.06666672\" x=\"125.06757\" xml:space=\"preserve\" y=\"191.32953\"><tspan id=\"tspan3262\" sodipodi:role=\"line\" style=\"font-size:8.53333378px;stroke-width:1.06666672\" x=\"125.06757\" y=\"191.32953\">12</tspan></text>\n",
       "    <text id=\"text3264\" style=\"font-style:normal;font-weight:normal;font-size:42.66666794px;line-height:125%;font-family:Sans;letter-spacing:0px;word-spacing:0px;display:inline;fill:#000000;fill-opacity:1;stroke:none;stroke-width:1.06666672\" x=\"127.71519\" xml:space=\"preserve\" y=\"319.48187\"><tspan id=\"tspan3266\" sodipodi:role=\"line\" style=\"font-size:8.53333378px;stroke-width:1.06666672\" x=\"127.71519\" y=\"319.48187\">0</tspan></text>\n",
       "    <text id=\"text3268\" style=\"font-style:normal;font-weight:normal;font-size:42.66666794px;line-height:125%;font-family:Sans;letter-spacing:0px;word-spacing:0px;display:inline;fill:#000000;fill-opacity:1;stroke:none;stroke-width:1.06666672\" x=\"520.49609\" xml:space=\"preserve\" y=\"324.48187\"><tspan id=\"tspan3270\" sodipodi:role=\"line\" style=\"font-size:8.53333378px;stroke-width:1.06666672\" x=\"520.49609\" y=\"324.48187\">36</tspan></text>\n",
       "    <text id=\"text3272\" style=\"font-style:normal;font-weight:normal;font-size:42.66666794px;line-height:125%;font-family:Sans;letter-spacing:0px;word-spacing:0px;display:inline;fill:#000000;fill-opacity:1;stroke:none;stroke-width:1.06666672\" x=\"517.63898\" xml:space=\"preserve\" y=\"192.97711\"><tspan id=\"tspan3274\" sodipodi:role=\"line\" style=\"font-size:8.53333378px;stroke-width:1.06666672\" x=\"517.63898\" y=\"192.97711\">171</tspan></text>\n",
       "    <text id=\"text3276\" style=\"font-style:normal;font-weight:normal;font-size:42.66666794px;line-height:125%;font-family:Sans;letter-spacing:0px;word-spacing:0px;display:inline;fill:#000000;fill-opacity:1;stroke:none;stroke-width:1.06666672\" x=\"379.01993\" xml:space=\"preserve\" y=\"234.04378\"><tspan id=\"tspan3278\" sodipodi:role=\"line\" style=\"font-size:8.53333378px;stroke-width:1.06666672\" x=\"379.01993\" y=\"234.04378\">13</tspan></text>\n",
       "    <text id=\"text3280\" style=\"font-style:normal;font-weight:normal;font-size:42.66666794px;line-height:125%;font-family:Sans;letter-spacing:0px;word-spacing:0px;display:inline;fill:#000000;fill-opacity:1;stroke:none;stroke-width:1.06666672\" x=\"271.8009\" xml:space=\"preserve\" y=\"233.48187\"><tspan id=\"tspan3282\" sodipodi:role=\"line\" style=\"font-size:8.53333378px;stroke-width:1.06666672\" x=\"271.8009\" y=\"233.48187\">1</tspan></text>\n",
       "    <text id=\"text3284\" style=\"font-style:normal;font-weight:normal;font-size:42.66666794px;line-height:125%;font-family:Sans;letter-spacing:0px;word-spacing:0px;display:inline;fill:#000000;fill-opacity:1;stroke:none;stroke-width:1.06666672\" x=\"378.30566\" xml:space=\"preserve\" y=\"280.2533\"><tspan id=\"tspan3286\" sodipodi:role=\"line\" style=\"font-size:8.53333378px;stroke-width:1.06666672\" x=\"378.30566\" y=\"280.2533\">714</tspan></text>\n",
       "    <text id=\"text3288\" style=\"font-style:normal;font-weight:normal;font-size:42.66666794px;line-height:125%;font-family:Sans;letter-spacing:0px;word-spacing:0px;display:inline;fill:#000000;fill-opacity:1;stroke:none;stroke-width:1.06666672\" x=\"270.37231\" xml:space=\"preserve\" y=\"277.539\"><tspan id=\"tspan3290\" sodipodi:role=\"line\" style=\"font-size:8.53333378px;stroke-width:1.06666672\" x=\"270.37231\" y=\"277.539\">1</tspan></text>\n",
       "  </g>\n",
       "  <g id=\"layer5\" inkscape:groupmode=\"layer\" inkscape:label=\"5-set\" style=\"display:none\" transform=\"translate(-277.24517,-172.58451)\">\n",
       "    <path d=\"m 655.57684,250.54169 -91.42856,-0.65538 v 129.4792 H 441.40675 v 90.5143 h 122.74153 v 128.91748 h 91.42856 V 469.87981 h 136.82679 l -0.30476,-90.5143 H 655.57684 Z\" id=\"path3779\" inkscape:connector-curvature=\"0\" sodipodi:nodetypes=\"ccccccccccccc\" style=\"display:inline;opacity:0.3;fill:#ff7f00;fill-opacity:1;stroke:#000000;stroke-width:1.3363812px;stroke-linecap:butt;stroke-linejoin:miter;stroke-opacity:1\"/>\n",
       "  </g>\n",
       "  <g id=\"layer9\" inkscape:groupmode=\"layer\" inkscape:label=\"5-set-lables\" style=\"display:none\">\n",
       "    <text id=\"text3054-1-1-1\" style=\"font-style:normal;font-weight:normal;font-size:42.66666794px;line-height:125%;font-family:Sans;letter-spacing:0px;word-spacing:0px;display:inline;fill:#000000;fill-opacity:1;stroke:none;stroke-width:1.06666672\" x=\"23.969429\" xml:space=\"preserve\" y=\"457.43115\"><tspan id=\"tspan3056-7-7-8\" sodipodi:role=\"line\" style=\"font-size:8.53333378px;stroke-width:1.06666672\" x=\"23.969429\" y=\"457.43115\">10000</tspan></text>\n",
       "    <text id=\"text3058-4-1-9\" style=\"font-style:normal;font-weight:normal;font-size:42.66666794px;line-height:125%;font-family:Sans;letter-spacing:0px;word-spacing:0px;display:inline;fill:#000000;fill-opacity:1;stroke:none;stroke-width:1.06666672\" x=\"614.44556\" xml:space=\"preserve\" y=\"51.335915\"><tspan id=\"tspan3060-0-1-2\" sodipodi:role=\"line\" style=\"font-size:8.53333378px;stroke-width:1.06666672\" x=\"614.44556\" y=\"51.335915\">1000</tspan></text>\n",
       "    <text id=\"text3062-9-5-7\" style=\"font-style:normal;font-weight:normal;font-size:42.66666794px;line-height:125%;font-family:Sans;letter-spacing:0px;word-spacing:0px;display:inline;fill:#000000;fill-opacity:1;stroke:none;stroke-width:1.06666672\" x=\"613.98846\" xml:space=\"preserve\" y=\"455.90735\"><tspan id=\"tspan3064-4-2-9\" sodipodi:role=\"line\" style=\"font-size:8.53333378px;stroke-width:1.06666672\" x=\"613.98846\" y=\"455.90735\">11000</tspan></text>\n",
       "    <text id=\"text3100-7-5\" style=\"font-style:normal;font-weight:normal;font-size:42.66666794px;line-height:125%;font-family:Sans;letter-spacing:0px;word-spacing:0px;display:inline;fill:#000000;fill-opacity:1;stroke:none;stroke-width:1.06666672\" x=\"254.82658\" xml:space=\"preserve\" y=\"180.09784\"><tspan id=\"tspan3102-6-4\" sodipodi:role=\"line\" style=\"font-size:8.53333378px;stroke-width:1.06666672\" x=\"254.82658\" y=\"180.09784\">100</tspan></text>\n",
       "    <text id=\"text3104-1-3\" style=\"font-style:normal;font-weight:normal;font-size:42.66666794px;line-height:125%;font-family:Sans;letter-spacing:0px;word-spacing:0px;display:inline;fill:#000000;fill-opacity:1;stroke:none;stroke-width:1.06666672\" x=\"252.54086\" xml:space=\"preserve\" y=\"331.10736\"><tspan id=\"tspan3106-4-1\" sodipodi:role=\"line\" style=\"font-size:8.53333378px;stroke-width:1.06666672\" x=\"252.54086\" y=\"331.10736\">10100</tspan></text>\n",
       "    <text id=\"text3108-2-2\" style=\"font-style:normal;font-weight:normal;font-size:42.66666794px;line-height:125%;font-family:Sans;letter-spacing:0px;word-spacing:0px;display:inline;fill:#000000;fill-opacity:1;stroke:none;stroke-width:1.06666672\" x=\"374.59802\" xml:space=\"preserve\" y=\"329.58356\"><tspan id=\"tspan3110-3-3\" sodipodi:role=\"line\" style=\"font-size:8.53333378px;stroke-width:1.06666672\" x=\"374.59802\" y=\"329.58356\">11100</tspan></text>\n",
       "    <text id=\"text3112-2-3\" style=\"font-style:normal;font-weight:normal;font-size:42.66666794px;line-height:125%;font-family:Sans;letter-spacing:0px;word-spacing:0px;display:inline;fill:#000000;fill-opacity:1;stroke:none;stroke-width:1.06666672\" x=\"375.35992\" xml:space=\"preserve\" y=\"180.25024\"><tspan id=\"tspan3114-2-4\" sodipodi:role=\"line\" style=\"font-size:8.53333378px;stroke-width:1.06666672\" x=\"375.35992\" y=\"180.25024\">1100</tspan></text>\n",
       "    <text id=\"text3116-8-1-1\" style=\"font-style:normal;font-weight:normal;font-size:42.66666794px;line-height:125%;font-family:Sans;letter-spacing:0px;word-spacing:0px;display:inline;fill:#000000;fill-opacity:1;stroke:none;stroke-width:1.06666672\" x=\"23.135624\" xml:space=\"preserve\" y=\"484.3627\"><tspan id=\"tspan3118-8-6-1\" sodipodi:role=\"line\" style=\"font-size:21.33333397px;stroke-width:1.06666672\" x=\"23.135624\" y=\"484.3627\">MF_02067</tspan></text>\n",
       "    <text id=\"text3120-2-8-3\" style=\"font-style:normal;font-weight:normal;font-size:42.66666794px;line-height:125%;font-family:Sans;letter-spacing:0px;word-spacing:0px;display:inline;fill:#000000;fill-opacity:1;stroke:none;stroke-width:1.06666672\" x=\"598.37372\" xml:space=\"preserve\" y=\"27.98177\"><tspan id=\"tspan3122-4-5-8\" sodipodi:role=\"line\" style=\"font-size:21.33333397px;stroke-width:1.06666672\" x=\"598.37372\" y=\"27.98177\">PTHR38341</tspan></text>\n",
       "    <text id=\"text3151-7-7\" style=\"font-style:normal;font-weight:normal;font-size:42.66666794px;line-height:125%;font-family:Sans;letter-spacing:0px;word-spacing:0px;display:inline;fill:#000000;fill-opacity:1;stroke:none;stroke-width:1.06666672\" x=\"218.94513\" xml:space=\"preserve\" y=\"139.98177\"><tspan id=\"tspan3153-6-4\" sodipodi:role=\"line\" style=\"font-size:21.33333397px;stroke-width:1.06666672\" x=\"218.94513\" y=\"139.98177\">PIRSF015647</tspan></text>\n",
       "    <text id=\"text3252-2\" style=\"font-style:normal;font-weight:normal;font-size:42.66666794px;line-height:125%;font-family:Sans;letter-spacing:0px;word-spacing:0px;display:inline;fill:#000000;fill-opacity:1;stroke:none;stroke-width:1.06666672\" x=\"58.183243\" xml:space=\"preserve\" y=\"117.1246\"><tspan id=\"tspan3254-7\" sodipodi:role=\"line\" style=\"font-size:21.33333397px;stroke-width:1.06666672\" x=\"58.183243\" y=\"117.1246\">PF01950</tspan></text>\n",
       "    <text id=\"text3260-7\" style=\"font-style:normal;font-weight:normal;font-size:42.66666794px;line-height:125%;font-family:Sans;letter-spacing:0px;word-spacing:0px;display:inline;fill:#000000;fill-opacity:1;stroke:none;stroke-width:1.06666672\" x=\"63.131355\" xml:space=\"preserve\" y=\"186.95499\"><tspan id=\"tspan3262-9\" sodipodi:role=\"line\" style=\"font-size:8.53333378px;stroke-width:1.06666672\" x=\"63.131355\" y=\"186.95499\">10</tspan></text>\n",
       "    <text id=\"text3264-3\" style=\"font-style:normal;font-weight:normal;font-size:42.66666794px;line-height:125%;font-family:Sans;letter-spacing:0px;word-spacing:0px;display:inline;fill:#000000;fill-opacity:1;stroke:none;stroke-width:1.06666672\" x=\"64.350395\" xml:space=\"preserve\" y=\"326.53592\"><tspan id=\"tspan3266-1\" sodipodi:role=\"line\" style=\"font-size:8.53333378px;stroke-width:1.06666672\" x=\"64.350395\" y=\"326.53592\">0</tspan></text>\n",
       "    <text id=\"text3268-9\" style=\"font-style:normal;font-weight:normal;font-size:42.66666794px;line-height:125%;font-family:Sans;letter-spacing:0px;word-spacing:0px;display:inline;fill:#000000;fill-opacity:1;stroke:none;stroke-width:1.06666672\" x=\"561.41705\" xml:space=\"preserve\" y=\"326.53592\"><tspan id=\"tspan3270-8\" sodipodi:role=\"line\" style=\"font-size:8.53333378px;stroke-width:1.06666672\" x=\"561.41705\" y=\"326.53592\">11010</tspan></text>\n",
       "    <text id=\"text3272-6\" style=\"font-style:normal;font-weight:normal;font-size:42.66666794px;line-height:125%;font-family:Sans;letter-spacing:0px;word-spacing:0px;display:inline;fill:#000000;fill-opacity:1;stroke:none;stroke-width:1.06666672\" x=\"561.41705\" xml:space=\"preserve\" y=\"183.60257\"><tspan id=\"tspan3274-5\" sodipodi:role=\"line\" style=\"font-size:8.53333378px;stroke-width:1.06666672\" x=\"561.41705\" y=\"183.60257\">1010</tspan></text>\n",
       "    <text id=\"text3276-0\" style=\"font-style:normal;font-weight:normal;font-size:42.66666794px;line-height:125%;font-family:Sans;letter-spacing:0px;word-spacing:0px;display:inline;fill:#000000;fill-opacity:1;stroke:none;stroke-width:1.06666672\" x=\"389.22656\" xml:space=\"preserve\" y=\"202.95497\"><tspan id=\"tspan3278-2\" sodipodi:role=\"line\" style=\"font-size:8.53333378px;stroke-width:1.06666672\" x=\"389.22656\" y=\"202.95497\">1110</tspan></text>\n",
       "    <text id=\"text3280-8\" style=\"font-style:normal;font-weight:normal;font-size:42.66666794px;line-height:125%;font-family:Sans;letter-spacing:0px;word-spacing:0px;display:inline;fill:#000000;fill-opacity:1;stroke:none;stroke-width:1.06666672\" x=\"235.93134\" xml:space=\"preserve\" y=\"201.58353\"><tspan id=\"tspan3282-6\" sodipodi:role=\"line\" style=\"font-size:8.53333378px;stroke-width:1.06666672\" x=\"235.93134\" y=\"201.58353\">110</tspan></text>\n",
       "    <text id=\"text3284-0\" style=\"font-style:normal;font-weight:normal;font-size:42.66666794px;line-height:125%;font-family:Sans;letter-spacing:0px;word-spacing:0px;display:inline;fill:#000000;fill-opacity:1;stroke:none;stroke-width:1.06666672\" x=\"392.2742\" xml:space=\"preserve\" y=\"307.64066\"><tspan id=\"tspan3286-2\" sodipodi:role=\"line\" style=\"font-size:8.53333378px;stroke-width:1.06666672\" x=\"392.2742\" y=\"307.64066\">11110</tspan></text>\n",
       "    <text id=\"text3288-4\" style=\"font-style:normal;font-weight:normal;font-size:42.66666794px;line-height:125%;font-family:Sans;letter-spacing:0px;word-spacing:0px;display:inline;fill:#000000;fill-opacity:1;stroke:none;stroke-width:1.06666672\" x=\"235.62657\" xml:space=\"preserve\" y=\"306.87878\"><tspan id=\"tspan3290-8\" sodipodi:role=\"line\" style=\"font-size:8.53333378px;stroke-width:1.06666672\" x=\"235.62657\" y=\"306.87878\">10110</tspan></text>\n",
       "    <text id=\"text3422\" style=\"font-style:normal;font-weight:normal;font-size:42.66666794px;line-height:125%;font-family:Sans;letter-spacing:0px;word-spacing:0px;display:inline;fill:#000000;fill-opacity:1;stroke:none;stroke-width:1.06666672\" x=\"253.99275\" xml:space=\"preserve\" y=\"66.838913\"><tspan id=\"tspan3424\" sodipodi:role=\"line\" style=\"font-size:21.33333397px;stroke-width:1.06666672\" x=\"253.99275\" y=\"66.838913\">None</tspan></text>\n",
       "    <text id=\"text3426\" style=\"font-style:normal;font-weight:normal;font-size:42.66666794px;line-height:125%;font-family:Sans;letter-spacing:0px;word-spacing:0px;display:inline;fill:#000000;fill-opacity:1;stroke:none;stroke-width:1.06666672\" x=\"289.41705\" xml:space=\"preserve\" y=\"92.47879\"><tspan id=\"tspan3428\" sodipodi:role=\"line\" style=\"font-size:8.53333378px;stroke-width:1.06666672\" x=\"289.41705\" y=\"92.47879\">1</tspan></text>\n",
       "    <text id=\"text3430\" style=\"font-style:normal;font-weight:normal;font-size:42.66666794px;line-height:125%;font-family:Sans;letter-spacing:0px;word-spacing:0px;display:inline;fill:#000000;fill-opacity:1;stroke:none;stroke-width:1.06666672\" x=\"336.3504\" xml:space=\"preserve\" y=\"92.47879\"><tspan id=\"tspan3432\" sodipodi:role=\"line\" style=\"font-size:8.53333378px;stroke-width:1.06666672\" x=\"336.3504\" y=\"92.47879\">1001</tspan></text>\n",
       "    <text id=\"text3434\" style=\"font-style:normal;font-weight:normal;font-size:42.66666794px;line-height:125%;font-family:Sans;letter-spacing:0px;word-spacing:0px;display:inline;fill:#000000;fill-opacity:1;stroke:none;stroke-width:1.06666672\" x=\"291.09323\" xml:space=\"preserve\" y=\"160.89784\"><tspan id=\"tspan3436\" sodipodi:role=\"line\" style=\"font-size:8.53333378px;stroke-width:1.06666672\" x=\"291.09323\" y=\"160.89784\">101</tspan></text>\n",
       "    <text id=\"text3438\" style=\"font-style:normal;font-weight:normal;font-size:42.66666794px;line-height:125%;font-family:Sans;letter-spacing:0px;word-spacing:0px;display:inline;fill:#000000;fill-opacity:1;stroke:none;stroke-width:1.06666672\" x=\"340.15988\" xml:space=\"preserve\" y=\"160.89784\"><tspan id=\"tspan3440\" sodipodi:role=\"line\" style=\"font-size:8.53333378px;stroke-width:1.06666672\" x=\"340.15988\" y=\"160.89784\">1101</tspan></text>\n",
       "    <text id=\"text3442\" style=\"font-style:normal;font-weight:normal;font-size:42.66666794px;line-height:125%;font-family:Sans;letter-spacing:0px;word-spacing:0px;display:inline;fill:#000000;fill-opacity:1;stroke:none;stroke-width:1.06666672\" x=\"171.62656\" xml:space=\"preserve\" y=\"231.29784\"><tspan id=\"tspan3444\" sodipodi:role=\"line\" style=\"font-size:8.53333378px;stroke-width:1.06666672\" x=\"171.62656\" y=\"231.29784\">11</tspan></text>\n",
       "    <text id=\"text3446\" style=\"font-style:normal;font-weight:normal;font-size:42.66666794px;line-height:125%;font-family:Sans;letter-spacing:0px;word-spacing:0px;display:inline;fill:#000000;fill-opacity:1;stroke:none;stroke-width:1.06666672\" x=\"171.62656\" xml:space=\"preserve\" y=\"278.23117\"><tspan id=\"tspan3448\" sodipodi:role=\"line\" style=\"font-size:8.53333378px;stroke-width:1.06666672\" x=\"171.62656\" y=\"278.23117\">10011</tspan></text>\n",
       "    <text id=\"text3450\" style=\"font-style:normal;font-weight:normal;font-size:42.66666794px;line-height:125%;font-family:Sans;letter-spacing:0px;word-spacing:0px;display:inline;fill:#000000;fill-opacity:1;stroke:none;stroke-width:1.06666672\" x=\"361.49323\" xml:space=\"preserve\" y=\"232.82162\"><tspan id=\"tspan3452\" sodipodi:role=\"line\" style=\"font-size:8.53333378px;stroke-width:1.06666672\" x=\"361.49323\" y=\"232.82162\">1111</tspan></text>\n",
       "    <text id=\"text3454\" style=\"font-style:normal;font-weight:normal;font-size:42.66666794px;line-height:125%;font-family:Sans;letter-spacing:0px;word-spacing:0px;display:inline;fill:#000000;fill-opacity:1;stroke:none;stroke-width:1.06666672\" x=\"361.49323\" xml:space=\"preserve\" y=\"275.48828\"><tspan id=\"tspan3456\" sodipodi:role=\"line\" style=\"font-size:8.53333378px;stroke-width:1.06666672\" x=\"361.49323\" y=\"275.48828\">11111</tspan></text>\n",
       "    <text id=\"text3458\" style=\"font-style:normal;font-weight:normal;font-size:42.66666794px;line-height:125%;font-family:Sans;letter-spacing:0px;word-spacing:0px;display:inline;fill:#000000;fill-opacity:1;stroke:none;stroke-width:1.06666672\" x=\"252.69322\" xml:space=\"preserve\" y=\"275.48828\"><tspan id=\"tspan3460\" sodipodi:role=\"line\" style=\"font-size:8.53333378px;stroke-width:1.06666672\" x=\"252.69322\" y=\"275.48828\">10111</tspan></text>\n",
       "    <text id=\"text3462\" style=\"font-style:normal;font-weight:normal;font-size:42.66666794px;line-height:125%;font-family:Sans;letter-spacing:0px;word-spacing:0px;display:inline;fill:#000000;fill-opacity:1;stroke:none;stroke-width:1.06666672\" x=\"252.69322\" xml:space=\"preserve\" y=\"232.82161\"><tspan id=\"tspan3464\" sodipodi:role=\"line\" style=\"font-size:8.53333378px;stroke-width:1.06666672\" x=\"252.69322\" y=\"232.82161\">111</tspan></text>\n",
       "    <text id=\"text3466\" style=\"font-style:normal;font-weight:normal;font-size:42.66666794px;line-height:125%;font-family:Sans;letter-spacing:0px;word-spacing:0px;display:inline;fill:#000000;fill-opacity:1;stroke:none;stroke-width:1.06666672\" x=\"288.80756\" xml:space=\"preserve\" y=\"348.17401\"><tspan id=\"tspan3468\" sodipodi:role=\"line\" style=\"font-size:8.53333378px;stroke-width:1.06666672\" x=\"288.80756\" y=\"348.17401\">10101</tspan></text>\n",
       "    <text id=\"text3470\" style=\"font-style:normal;font-weight:normal;font-size:42.66666794px;line-height:125%;font-family:Sans;letter-spacing:0px;word-spacing:0px;display:inline;fill:#000000;fill-opacity:1;stroke:none;stroke-width:1.06666672\" x=\"337.87421\" xml:space=\"preserve\" y=\"348.17401\"><tspan id=\"tspan3472\" sodipodi:role=\"line\" style=\"font-size:8.53333378px;stroke-width:1.06666672\" x=\"337.87421\" y=\"348.17401\">1101</tspan></text>\n",
       "    <text id=\"text3474\" style=\"font-style:normal;font-weight:normal;font-size:42.66666794px;line-height:125%;font-family:Sans;letter-spacing:0px;word-spacing:0px;display:inline;fill:#000000;fill-opacity:1;stroke:none;stroke-width:1.06666672\" x=\"288.80756\" xml:space=\"preserve\" y=\"399.37402\"><tspan id=\"tspan3476\" sodipodi:role=\"line\" style=\"font-size:8.53333378px;stroke-width:1.06666672\" x=\"288.80756\" y=\"399.37402\">10001</tspan></text>\n",
       "    <text id=\"text3478\" style=\"font-style:normal;font-weight:normal;font-size:42.66666794px;line-height:125%;font-family:Sans;letter-spacing:0px;word-spacing:0px;display:inline;fill:#000000;fill-opacity:1;stroke:none;stroke-width:1.06666672\" x=\"337.87421\" xml:space=\"preserve\" y=\"399.37402\"><tspan id=\"tspan3480\" sodipodi:role=\"line\" style=\"font-size:8.53333378px;stroke-width:1.06666672\" x=\"337.87421\" y=\"399.37402\">1001</tspan></text>\n",
       "    <text id=\"text3482\" style=\"font-style:normal;font-weight:normal;font-size:42.66666794px;line-height:125%;font-family:Sans;letter-spacing:0px;word-spacing:0px;display:inline;fill:#000000;fill-opacity:1;stroke:none;stroke-width:1.06666672\" x=\"455.35989\" xml:space=\"preserve\" y=\"232.82162\"><tspan id=\"tspan3484\" sodipodi:role=\"line\" style=\"font-size:8.53333378px;stroke-width:1.06666672\" x=\"455.35989\" y=\"232.82162\">1011</tspan></text>\n",
       "    <text id=\"text3486\" style=\"font-style:normal;font-weight:normal;font-size:42.66666794px;line-height:125%;font-family:Sans;letter-spacing:0px;word-spacing:0px;display:inline;fill:#000000;fill-opacity:1;stroke:none;stroke-width:1.06666672\" x=\"455.35989\" xml:space=\"preserve\" y=\"275.48828\"><tspan id=\"tspan3488\" sodipodi:role=\"line\" style=\"font-size:8.53333378px;stroke-width:1.06666672\" x=\"455.35989\" y=\"275.48828\">11011</tspan></text>\n",
       "  </g>\n",
       "  <g id=\"layer6\" inkscape:groupmode=\"layer\" inkscape:label=\"6-set\" style=\"display:none\" transform=\"translate(-277.24517,-172.58451)\">\n",
       "    <path d=\"m 591.38222,292.59843 43.14761,0.41577 21.04701,53.13227 32.60953,-32.05474 33.72932,32.05474 -33.72932,33.21904 67.4211,22.73024 0.0151,45.56169 -67.43627,22.22237 32.80629,30.47618 -32.80629,30.7974 -32.60953,-30.7974 -20.15455,55.83444 h -50.05888 l -21.21513,-55.83444 -34.43811,33.01333 -32.69032,-33.01333 32.69032,-30.47618 -55.58765,-23.9616 v -43.39146 l 55.58765,-23.16124 -33.42616,-33.21904 33.42616,-31.54322 34.43811,31.54322 z\" id=\"path3815\" inkscape:connector-curvature=\"0\" sodipodi:nodetypes=\"ccccccccccccccccccccccccc\" style=\"display:inline;opacity:0.3;fill:#ffff33;fill-opacity:1;stroke:#000000;stroke-width:0.85333335\"/>\n",
       "  </g>\n",
       "</svg>"
      ],
      "text/plain": [
       "<IPython.core.display.SVG object>"
      ]
     },
     "execution_count": 35,
     "metadata": {},
     "output_type": "execute_result"
    }
   ],
   "source": [
    "vn"
   ]
  },
  {
   "cell_type": "markdown",
   "metadata": {},
   "source": [
    "Do some of the 41 entries contain the same PubMed IDs? Let's find the 5 most common ones."
   ]
  },
  {
   "cell_type": "code",
   "execution_count": 24,
   "metadata": {},
   "outputs": [],
   "source": [
    "from collections import Counter"
   ]
  },
  {
   "cell_type": "code",
   "execution_count": 25,
   "metadata": {},
   "outputs": [
    {
     "name": "stdout",
     "output_type": "stream",
     "text": [
      "[('15489334', 24), ('20068231', 9), ('14702039', 8), ('23186163', 8), ('21269460', 7)]\n"
     ]
    }
   ],
   "source": [
    "c = Counter()\n",
    "for e in entries:\n",
    "    c.update(e.all_pubmed_ids)\n",
    "print(c.most_common(5))"
   ]
  },
  {
   "cell_type": "markdown",
   "metadata": {},
   "source": [
    "Which are the accession numbers and species of those 24 entries containing the most common one (15489334)?"
   ]
  },
  {
   "cell_type": "code",
   "execution_count": 26,
   "metadata": {
    "scrolled": true
   },
   "outputs": [
    {
     "name": "stdout",
     "output_type": "stream",
     "text": [
      "Q06507 Mus musculus (Mouse).\n",
      "P18848 Homo sapiens (Human).\n",
      "Q9Y6D9 Homo sapiens (Human).\n",
      "P47911 Mus musculus (Mouse).\n",
      "Q0VGT2 Mus musculus (Mouse).\n",
      "O14908 Homo sapiens (Human).\n",
      "Q02878 Homo sapiens (Human).\n",
      "O14910 Homo sapiens (Human).\n",
      "Q10586 Homo sapiens (Human).\n",
      "Q61330 Mus musculus (Mouse).\n",
      "P43489 Homo sapiens (Human).\n",
      "Q08AM6 Homo sapiens (Human).\n",
      "P23510 Homo sapiens (Human).\n",
      "Q86VP1 Homo sapiens (Human).\n",
      "O35426 Mus musculus (Mouse).\n",
      "P17861 Homo sapiens (Human).\n",
      "Q9DBG9 Mus musculus (Mouse).\n",
      "Q4QQV1 Rattus norvegicus (Rat).\n",
      "O14907 Homo sapiens (Human).\n",
      "Q66HA4 Rattus norvegicus (Rat).\n",
      "Q9UQ35 Homo sapiens (Human).\n",
      "Q13884 Homo sapiens (Human).\n",
      "Q3UKC1 Mus musculus (Mouse).\n",
      "Q9NPB6 Homo sapiens (Human).\n"
     ]
    }
   ],
   "source": [
    "for e in entries:\n",
    "    if '15489334' in e.all_pubmed_ids:\n",
    "        print(e.primary_accession, e.organism)"
   ]
  },
  {
   "cell_type": "markdown",
   "metadata": {},
   "source": [
    "So, which paper is hiding behind this PMID 15489334? Here we use another module from prunito."
   ]
  },
  {
   "cell_type": "code",
   "execution_count": 27,
   "metadata": {},
   "outputs": [],
   "source": [
    "from prunito import europepmc as epmc"
   ]
  },
  {
   "cell_type": "code",
   "execution_count": 28,
   "metadata": {},
   "outputs": [],
   "source": [
    "paper = epmc.get_pmid_metadata('15489334')"
   ]
  },
  {
   "cell_type": "markdown",
   "metadata": {},
   "source": [
    "EuropePMC returns data for example in JSON format. We can iterate over results."
   ]
  },
  {
   "cell_type": "code",
   "execution_count": 29,
   "metadata": {},
   "outputs": [
    {
     "name": "stdout",
     "output_type": "stream",
     "text": [
      "The status, quality, and expansion of the NIH full-length cDNA project: the Mammalian Gene Collection (MGC).\n"
     ]
    }
   ],
   "source": [
    "# paper.json()['resultList']['result'][0]['title']\n",
    "for p in paper:\n",
    "    print(p['title'])"
   ]
  },
  {
   "cell_type": "code",
   "execution_count": 30,
   "metadata": {},
   "outputs": [
    {
     "data": {
      "text/plain": [
       "\"The National Institutes of Health's Mammalian Gene Collection (MGC) project was designed to generate and sequence a publicly accessible cDNA resource containing a complete open reading frame (ORF) for every human and mouse gene. The project initially used a random strategy to select clones from a large number of cDNA libraries from diverse tissues. Candidate clones were chosen based on 5'-EST sequences, and then fully sequenced to high accuracy and analyzed by algorithms developed for this project. Currently, more than 11,000 human and 10,000 mouse genes are represented in MGC by at least one clone with a full ORF. The random selection approach is now reaching a saturation point, and a transition to protocols targeted at the missing transcripts is now required to complete the mouse and human collections. Comparison of the sequence of the MGC clones to reference genome sequences reveals that most cDNA clones are of very high sequence quality, although it is likely that some cDNAs may carry missense variants as a consequence of experimental artifact, such as PCR, cloning, or reverse transcriptase errors. Recently, a rat cDNA component was added to the project, and ongoing frog (Xenopus) and zebrafish (Danio) cDNA projects were expanded to take advantage of the high-throughput MGC pipeline.\""
      ]
     },
     "execution_count": 30,
     "metadata": {},
     "output_type": "execute_result"
    }
   ],
   "source": [
    "list(paper)[0]['abstractText']"
   ]
  },
  {
   "cell_type": "markdown",
   "metadata": {},
   "source": [
    "As the paper mentions the Mammalian Gene Collection, why not search EuropePMC for articles mentioning the collection in their abstracts?"
   ]
  },
  {
   "cell_type": "code",
   "execution_count": 31,
   "metadata": {},
   "outputs": [],
   "source": [
    "mgc_papers = epmc.search('abstract:\"Mammalian Gene Collection\"')"
   ]
  },
  {
   "cell_type": "code",
   "execution_count": 32,
   "metadata": {},
   "outputs": [
    {
     "data": {
      "text/plain": [
       "24"
      ]
     },
     "execution_count": 32,
     "metadata": {},
     "output_type": "execute_result"
    }
   ],
   "source": [
    "mgc_papers.size()\n",
    "#\n",
    "# len(mgc_papers)"
   ]
  },
  {
   "cell_type": "code",
   "execution_count": 33,
   "metadata": {
    "scrolled": true
   },
   "outputs": [
    {
     "name": "stdout",
     "output_type": "stream",
     "text": [
      "0 Identification of candidate transcription factor binding sites in the cattle genome.\n",
      "1 Selenoproteins in bladder cancer.\n",
      "2 NSrp70 is a novel nuclear speckle-related protein that modulates alternative pre-mRNA splicing in vivo.\n",
      "3 Generation of a genome scale lentiviral vector library for EF1α promoter-driven expression of human ORFs and identification of human genes affecting viral titer.\n",
      "4 The completion of the Mammalian Gene Collection (MGC).\n",
      "5 A high-throughput platform for lentiviral overexpression screening of the human ORFeome.\n",
      "6 PRFdb: a database of computationally predicted eukaryotic programmed -1 ribosomal frameshift signals.\n",
      "7 Transcriptome analysis of a cDNA library from adult human epididymis.\n",
      "8 Construction and characterization of a normalized yeast two-hybrid library derived from a human protein-coding clone collection.\n",
      "9 Evaluation of vector-primed cDNA library production from microgram quantities of total RNA.\n",
      "10 Concatenation cDNA sequencing for transcriptome analysis.\n",
      "11 Targeted discovery of novel human exons by comparative genomics.\n",
      "12 1274 full-open reading frames of transcripts expressed in the developing mouse nervous system.\n",
      "13 The status, quality, and expansion of the NIH full-length cDNA project: the Mammalian Gene Collection (MGC).\n",
      "14 Generation and initial analysis of more than 15,000 full-length human and mouse cDNA sequences.\n",
      "15 Identification and characterisation of human apoptosis inducing proteins using cell-based transfection microarrays and expression analysis.\n",
      "16 The mammalian gene collection.\n",
      "17 Human ORFeome version 1.1: a platform for reverse proteomics.\n",
      "18 Analysis of human mRNAs with the reference genome sequence reveals potential errors, polymorphisms, and RNA editing.\n",
      "19 3'-UTR SIRF: a database for identifying clusters of whort interspersed repeats in 3' untranslated regions.\n",
      "20 Identification and functional analysis of human transcriptional promoters.\n",
      "21 An efficient strategy for large-scale high-throughput transposon-mediated sequencing of cDNA clones.\n",
      "22 Genome and genetic resources from the Cancer Genome Anatomy Project.\n",
      "23 Systematic recovery and analysis of full-ORF human cDNA clones.\n"
     ]
    }
   ],
   "source": [
    "for idx, hit in enumerate(mgc_papers):\n",
    "    print(idx, hit['title'])"
   ]
  },
  {
   "cell_type": "markdown",
   "metadata": {},
   "source": [
    "Each hit/paper has many extra data fields including DOI, PubMed ID etc. If the abstract is needed, resulttype='core' has to be specified as a search parameter."
   ]
  },
  {
   "cell_type": "code",
   "execution_count": 34,
   "metadata": {
    "scrolled": true
   },
   "outputs": [
    {
     "name": "stdout",
     "output_type": "stream",
     "text": [
      "id:\t23251614\n",
      "source:\tMED\n",
      "pmid:\t23251614\n",
      "pmcid:\tPMC3520899\n",
      "doi:\t10.1371/journal.pone.0051733\n",
      "title:\tGeneration of a genome scale lentiviral vector library for EF1α promoter-driven expression of human ORFs and identification of human genes affecting viral titer.\n",
      "authorString:\tŠkalamera D, Dahmer M, Purdon AS, Wilson BM, Ranall MV, Blumenthal A, Gabrielli B, Gonda TJ.\n",
      "journalTitle:\tPLoS One\n",
      "issue:\t12\n",
      "journalVolume:\t7\n",
      "pubYear:\t2012\n",
      "journalIssn:\t1932-6203\n",
      "pageInfo:\te51733\n",
      "pubType:\tresearch support, non-u.s. gov't; research-article; journal article; \n",
      "isOpenAccess:\tY\n",
      "inEPMC:\tY\n",
      "inPMC:\tY\n",
      "hasPDF:\tY\n",
      "hasBook:\tN\n",
      "hasSuppl:\tY\n",
      "citedByCount:\t8\n",
      "hasReferences:\tY\n",
      "hasTextMinedTerms:\tY\n",
      "hasDbCrossReferences:\tY\n",
      "dbCrossReferenceList:\t{'dbName': ['EMBL']}\n",
      "hasLabsLinks:\tY\n",
      "hasTMAccessionNumbers:\tY\n",
      "tmAccessionTypeList:\t{'accessionType': ['gen']}\n",
      "firstPublicationDate:\t2012-12-12\n"
     ]
    }
   ],
   "source": [
    "for k, v in list(mgc_papers)[3].items():\n",
    "    print(k + ':\\t' + str(v))"
   ]
  }
 ],
 "metadata": {
  "celltoolbar": "Slideshow",
  "kernelspec": {
   "display_name": "Python 3",
   "language": "python",
   "name": "python3"
  },
  "language_info": {
   "codemirror_mode": {
    "name": "ipython",
    "version": 3
   },
   "file_extension": ".py",
   "mimetype": "text/x-python",
   "name": "python",
   "nbconvert_exporter": "python",
   "pygments_lexer": "ipython3",
   "version": "3.6.4"
  }
 },
 "nbformat": 4,
 "nbformat_minor": 2
}
